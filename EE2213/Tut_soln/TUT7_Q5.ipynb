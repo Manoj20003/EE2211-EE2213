{
 "cells": [
  {
   "cell_type": "code",
   "execution_count": 1,
   "metadata": {
    "id": "JV7AEQQUyK8N"
   },
   "outputs": [
    {
     "data": {
      "text/plain": [
       "array([[0, 0],\n",
       "       [1, 0],\n",
       "       [0, 1],\n",
       "       [1, 1]])"
      ]
     },
     "execution_count": 1,
     "metadata": {},
     "output_type": "execute_result"
    }
   ],
   "source": [
    "import numpy as np\n",
    "\n",
    "# Data points\n",
    "x1 = np.array([0, 0])\n",
    "x2 = np.array([1, 0])\n",
    "x3 = np.array([0, 1])\n",
    "x4 = np.array([1, 1])\n",
    "\n",
    "data_points = np.array([x1, x2, x3, x4])\n",
    "\n",
    "data_points"
   ]
  },
  {
   "cell_type": "code",
   "execution_count": 2,
   "metadata": {
    "id": "cg-NCf47yWor"
   },
   "outputs": [
    {
     "data": {
      "text/plain": [
       "array([[0, 0],\n",
       "       [1, 0]])"
      ]
     },
     "execution_count": 2,
     "metadata": {},
     "output_type": "execute_result"
    }
   ],
   "source": [
    "# Initial centers\n",
    "c1_init = x1.copy()\n",
    "c2_init = x2.copy()\n",
    "\n",
    "centers_init = np.array([c1_init, c2_init])\n",
    "centers_init"
   ]
  },
  {
   "cell_type": "markdown",
   "metadata": {},
   "source": [
    "### (i) ###"
   ]
  },
  {
   "cell_type": "code",
   "execution_count": 3,
   "metadata": {
    "id": "A7wSMSQyydZp"
   },
   "outputs": [],
   "source": [
    "def k_means(data_points, centers_init, n_clusters, max_iterations=100, tol=1e-4) :\n",
    "  \n",
    "  centers = centers_init.copy() # Make a copy of the initial centers\n",
    "\n",
    "  for _ in range(max_iterations): #The underscore _ is a throwaway variable, meaning “I don’t care about the loop variable.”\n",
    "    \n",
    "    # Compute squared Euclidean distances to each centroid\n",
    "    # Result shape: (n_samples, k)\n",
    "    distances = np.linalg.norm(data_points[:, np.newaxis] - centers, axis=2)\n",
    "\n",
    "    # Assign each point to the index of the closest centroid\n",
    "    closest_centroids = np.argmin(distances, axis=1) # Finds the index of the minimum value along each row\n",
    "\n",
    "    # Update centroids to be the mean of the data points assigned to them\n",
    "    new_centers = np.zeros((n_clusters, data_points.shape[1])) # Initialize new centers\n",
    "    for i in range(n_clusters):\n",
    "      new_centers[i] = data_points[closest_centroids == i].mean(axis=0)\n",
    "    \n",
    "    # End if centroids no longer change\n",
    "    if np.linalg.norm(new_centers - centers) < tol:\n",
    "      break\n",
    "    centers = new_centers\n",
    "  return centers, closest_centroids"
   ]
  },
  {
   "cell_type": "code",
   "execution_count": 4,
   "metadata": {},
   "outputs": [
    {
     "name": "stdout",
     "output_type": "stream",
     "text": [
      "[[[0 0]]\n",
      "\n",
      " [[1 0]]\n",
      "\n",
      " [[0 1]]\n",
      "\n",
      " [[1 1]]]\n"
     ]
    },
    {
     "data": {
      "text/plain": [
       "(4, 1, 2)"
      ]
     },
     "execution_count": 4,
     "metadata": {},
     "output_type": "execute_result"
    }
   ],
   "source": [
    "# distances = np.linalg.norm(data_points[:, np.newaxis] - centers, axis=2)\n",
    "# break step by step\n",
    "print(data_points[:, np.newaxis]) #add a new axis between the two existing ones.\n",
    "data_points[:, np.newaxis].shape"
   ]
  },
  {
   "cell_type": "code",
   "execution_count": 5,
   "metadata": {},
   "outputs": [
    {
     "data": {
      "text/plain": [
       "array([[[ 0,  0],\n",
       "        [-1,  0]],\n",
       "\n",
       "       [[ 1,  0],\n",
       "        [ 0,  0]],\n",
       "\n",
       "       [[ 0,  1],\n",
       "        [-1,  1]],\n",
       "\n",
       "       [[ 1,  1],\n",
       "        [ 0,  1]]])"
      ]
     },
     "execution_count": 5,
     "metadata": {},
     "output_type": "execute_result"
    }
   ],
   "source": [
    "# distances = np.linalg.norm(data_points[:, np.newaxis] - centers, axis=2)\n",
    "# break step by step\n",
    "# NumPy automatically broadcasts centers along the second axis of data_points\n",
    "data_points[:, np.newaxis] - centers_init"
   ]
  },
  {
   "cell_type": "code",
   "execution_count": 6,
   "metadata": {},
   "outputs": [
    {
     "data": {
      "text/plain": [
       "array([[0.        , 1.        ],\n",
       "       [1.        , 0.        ],\n",
       "       [1.        , 1.41421356],\n",
       "       [1.41421356, 1.        ]])"
      ]
     },
     "execution_count": 6,
     "metadata": {},
     "output_type": "execute_result"
    }
   ],
   "source": [
    "# distances = np.linalg.norm(data_points[:, np.newaxis] - centers, axis=2)\n",
    "# break step by step\n",
    "#computes the L2 norm along axis 2 \n",
    "np.linalg.norm(data_points [:, np.newaxis] - centers_init, axis=2)"
   ]
  },
  {
   "cell_type": "code",
   "execution_count": 7,
   "metadata": {
    "id": "e4Dpn_1p01NJ"
   },
   "outputs": [
    {
     "name": "stdout",
     "output_type": "stream",
     "text": [
      "Converged centers : [[0.  0.5]\n",
      " [1.  0.5]]\n",
      "cluster Labels : [0 1 0 1]\n"
     ]
    }
   ],
   "source": [
    "centers, labels = k_means(data_points, centers_init, n_clusters=2)\n",
    "print(\"Converged centers :\", centers)\n",
    "print(\"cluster Labels :\", labels)"
   ]
  },
  {
   "cell_type": "code",
   "execution_count": 8,
   "metadata": {},
   "outputs": [
    {
     "data": {
      "text/plain": [
       "Text(0.5, 1.0, 'K-Means Clustering')"
      ]
     },
     "execution_count": 8,
     "metadata": {},
     "output_type": "execute_result"
    },
    {
     "data": {
      "image/png": "[encoded data removed]",
      "text/plain": [
       "<Figure size 640x480 with 1 Axes>"
      ]
     },
     "metadata": {},
     "output_type": "display_data"
    }
   ],
   "source": [
    "#plot the data\n",
    "from matplotlib import pyplot as plt\n",
    "plt.scatter(data_points[:, 0], data_points[:, 1], c=labels, cmap='viridis', marker='o')\n",
    "plt.scatter(centers[:, 0], centers[:, 1], c='red', marker='x', s=100, label='Centroids')\n",
    "plt.title('K-Means Clustering')"
   ]
  },
  {
   "cell_type": "markdown",
   "metadata": {},
   "source": [
    "Use sklearn's libraries"
   ]
  },
  {
   "cell_type": "code",
   "execution_count": 9,
   "metadata": {},
   "outputs": [
    {
     "name": "stdout",
     "output_type": "stream",
     "text": [
      "KMeans centers from sklearn: [[0.  0.5]\n",
      " [1.  0.5]]\n",
      "KMeans labels from sklearn: [0 1 0 1]\n"
     ]
    },
    {
     "name": "stderr",
     "output_type": "stream",
     "text": [
      "c:\\Users\\milic\\anaconda3\\envs\\ee2213\\lib\\site-packages\\joblib\\externals\\loky\\backend\\context.py:136: UserWarning: Could not find the number of physical cores for the following reason:\n",
      "[WinError 2] The system cannot find the file specified\n",
      "Returning the number of logical cores instead. You can silence this warning by setting LOKY_MAX_CPU_COUNT to the number of cores you want to use.\n",
      "  warnings.warn(\n",
      "  File \"c:\\Users\\milic\\anaconda3\\envs\\ee2213\\lib\\site-packages\\joblib\\externals\\loky\\backend\\context.py\", line 257, in _count_physical_cores\n",
      "    cpu_info = subprocess.run(\n",
      "  File \"c:\\Users\\milic\\anaconda3\\envs\\ee2213\\lib\\subprocess.py\", line 493, in run\n",
      "    with Popen(*popenargs, **kwargs) as process:\n",
      "  File \"c:\\Users\\milic\\anaconda3\\envs\\ee2213\\lib\\subprocess.py\", line 858, in __init__\n",
      "    self._execute_child(args, executable, preexec_fn, close_fds,\n",
      "  File \"c:\\Users\\milic\\anaconda3\\envs\\ee2213\\lib\\subprocess.py\", line 1327, in _execute_child\n",
      "    hp, ht, pid, tid = _winapi.CreateProcess(executable, args,\n",
      "c:\\Users\\milic\\anaconda3\\envs\\ee2213\\lib\\site-packages\\sklearn\\cluster\\_kmeans.py:1436: UserWarning: KMeans is known to have a memory leak on Windows with MKL, when there are less chunks than available threads. You can avoid it by setting the environment variable OMP_NUM_THREADS=1.\n",
      "  warnings.warn(\n"
     ]
    }
   ],
   "source": [
    "from sklearn.cluster import KMeans\n",
    "\n",
    "kmeans = KMeans(n_clusters=2, init=centers_init, max_iter=100, n_init=1) \n",
    "#n_init: The number of times the KMeans algorithm will run with different centroid seeds\n",
    "#        Setting n_init=1 means it will only run once, using the given centers_init\n",
    "kmeans.fit(data_points)\n",
    "print(\"KMeans centers from sklearn:\", kmeans.cluster_centers_)\n",
    "print(\"KMeans labels from sklearn:\", kmeans.labels_)"
   ]
  },
  {
   "cell_type": "markdown",
   "metadata": {},
   "source": [
    "### (ii) ###"
   ]
  },
  {
   "cell_type": "code",
   "execution_count": 10,
   "metadata": {},
   "outputs": [],
   "source": [
    "# Assignment Step: Fix centers, update membership\n",
    "def update_membership(data_points, centers, fuzzier=2):\n",
    "    '''\n",
    "    Parameters:\n",
    "        datapoints: ndarray of shape (n_samples, n_features)\n",
    "        centers: ndarray of shape (n_clusters, n_features)\n",
    "        fuzzier: fuzzifier ([1.25,2])\n",
    "        \n",
    "    Returns:\n",
    "        W: ndarray of shape (n_samples, n_clusters)\n",
    "    '''\n",
    "    n_samples = data_points.shape[0]\n",
    "    n_clusters = centers.shape[0]\n",
    "    W = np.zeros((n_samples, n_clusters)) # initialize membership matrix\n",
    "\n",
    "    for i in range(n_samples):\n",
    "        for k in range(n_clusters):\n",
    "            denom = 0.0 # Denominator for membership calculation\n",
    "\n",
    "            # Calculate ||x_i - c_k||\n",
    "            dist_k = np.linalg.norm(data_points[i] - centers[k]) + 1e-10  # Avoid division by zero\n",
    "\n",
    "            for j in range(n_clusters):\n",
    "                # Calculate ||x_i - c_j||\n",
    "                dist_j = np.linalg.norm(data_points[i] - centers[j]) + 1e-10\n",
    "    \n",
    "                ratio = (dist_k / dist_j)\n",
    "                denom += ratio ** (2 / (fuzzier - 1))\n",
    "            W[i, k] = 1 / denom\n",
    "    return W"
   ]
  },
  {
   "cell_type": "code",
   "execution_count": 11,
   "metadata": {},
   "outputs": [],
   "source": [
    "# Centroid Update Step: Fix membership, update centers\n",
    "def update_centers(data_points, W, fuzzier=2):\n",
    "    '''\n",
    "    Parameters:\n",
    "        datapoints: ndarray of shape (n_samples, n_features)\n",
    "        W: ndarray of shape (n_samples, n_clusters)\n",
    "        fuzzier: fuzzifier ([1.25,2])\n",
    "        \n",
    "    Returns:\n",
    "        centers: ndarray of shape (n_clusters, n_features)\n",
    "    '''\n",
    "    n_clusters = W.shape[1]\n",
    "    centers = np.zeros((n_clusters, data_points.shape[1]))\n",
    "\n",
    "    for k in range(n_clusters):\n",
    "        numerator = data_points.T @ (W[:, k] ** fuzzier)\n",
    "        denominator = np.sum(W[:, k] ** fuzzier)\n",
    "        centers[k] = numerator / denominator\n",
    "    return centers"
   ]
  },
  {
   "cell_type": "code",
   "execution_count": 12,
   "metadata": {},
   "outputs": [],
   "source": [
    "# Fuzzy_Cmeans Clustering\n",
    "def fuzzy_Cmeans(data_points, centers_init, fuzzier=2, max_iterations=100, tol=1e-4):\n",
    "  centers = centers_init.copy() # make a copy of initial center to work on.\n",
    "  for _ in range(max_iterations): # The underscore _ is a throwaway variable, meaning “I don’t care about the loop variable.”\n",
    "    \n",
    "    W = update_membership(data_points, centers, fuzzier)\n",
    "    \n",
    "    new_centers = update_centers(data_points, W, fuzzier=2)\n",
    "\n",
    "    if np.linalg.norm(new_centers - centers) < tol:\n",
    "      break\n",
    "    centers = new_centers\n",
    "  return centers, W"
   ]
  },
  {
   "cell_type": "code",
   "execution_count": 13,
   "metadata": {},
   "outputs": [
    {
     "name": "stdout",
     "output_type": "stream",
     "text": [
      "Converged centers : [[0.04491027 0.4998801 ]\n",
      " [0.95508973 0.4998801 ]]\n",
      "Final membership matrix (W): [[0.82185166 0.17814834]\n",
      " [0.17814834 0.82185166]\n",
      " [0.82174252 0.17825748]\n",
      " [0.17825748 0.82174252]]\n"
     ]
    }
   ],
   "source": [
    "centers, W = fuzzy_Cmeans(data_points, centers_init)\n",
    "print(\"Converged centers :\", centers)\n",
    "print(\"Final membership matrix (W):\", W)"
   ]
  }
 ],
 "metadata": {
  "colab": {
   "provenance": []
  },
  "kernelspec": {
   "display_name": "ee2213",
   "language": "python",
   "name": "python3"
  },
  "language_info": {
   "codemirror_mode": {
    "name": "ipython",
    "version": 3
   },
   "file_extension": ".py",
   "mimetype": "text/x-python",
   "name": "python",
   "nbconvert_exporter": "python",
   "pygments_lexer": "ipython3",
   "version": "3.8.20"
  }
 },
 "nbformat": 4,
 "nbformat_minor": 0
}
