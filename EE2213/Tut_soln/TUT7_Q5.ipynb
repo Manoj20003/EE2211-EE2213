{
 "cells": [
  {
   "cell_type": "code",
   "execution_count": null,
   "metadata": {
    "id": "JV7AEQQUyK8N"
   },
   "outputs": [],
   "source": [
    "import numpy as np\n",
    "\n",
    "# Data points\n",
    "x1 = np.array([0, 0])\n",
    "x2 = np.array([1, 0])\n",
    "x3 = np.array([0, 1])\n",
    "x4 = np.array([1, 1])\n",
    "\n",
    "data_points = np.array([x1, x2, x3, x4])\n",
    "\n",
    "data_points"
   ]
  },
  {
   "cell_type": "code",
   "execution_count": null,
   "metadata": {
    "id": "cg-NCf47yWor"
   },
   "outputs": [],
   "source": [
    "# Initial centers\n",
    "c1_init = x1.copy()\n",
    "c2_init = x2.copy()\n",
    "\n",
    "centers_init = np.array([c1_init, c2_init])\n",
    "centers_init"
   ]
  },
  {
   "cell_type": "markdown",
   "metadata": {},
   "source": [
    "### (i) ###"
   ]
  },
  {
   "cell_type": "code",
   "execution_count": null,
   "metadata": {
    "id": "A7wSMSQyydZp"
   },
   "outputs": [],
   "source": [
    "def k_means(data_points, centers_init, n_clusters, max_iterations=100, tol=1e-4) :\n",
    "  \n",
    "  centers = centers_init.copy() # Make a copy of the initial centers\n",
    "\n",
    "  for _ in range(max_iterations): #The underscore _ is a throwaway variable, meaning “I don’t care about the loop variable.”\n",
    "    \n",
    "    # Compute squared Euclidean distances to each centroid\n",
    "    # Result shape: (n_samples, k)\n",
    "    distances = np.linalg.norm(data_points[:, np.newaxis] - centers, axis=2)\n",
    "\n",
    "    # Assign each point to the index of the closest centroid\n",
    "    closest_centroids = np.argmin(distances, axis=1) # Finds the index of the minimum value along each row\n",
    "\n",
    "    # Update centroids to be the mean of the data points assigned to them\n",
    "    new_centers = np.zeros((n_clusters, data_points.shape[1])) # Initialize new centers\n",
    "    for i in range(n_clusters):\n",
    "      new_centers[i] = data_points[closest_centroids == i].mean(axis=0)\n",
    "    \n",
    "    # End if centroids no longer change\n",
    "    if np.linalg.norm(new_centers - centers) < tol:\n",
    "      break\n",
    "    centers = new_centers\n",
    "  return centers, closest_centroids"
   ]
  },
  {
   "cell_type": "code",
   "execution_count": null,
   "metadata": {},
   "outputs": [],
   "source": [
    "# distances = np.linalg.norm(data_points[:, np.newaxis] - centers, axis=2)\n",
    "# break step by step\n",
    "print(data_points[:, np.newaxis]) #add a new axis between the two existing ones.\n",
    "data_points[:, np.newaxis].shape"
   ]
  },
  {
   "cell_type": "code",
   "execution_count": null,
   "metadata": {},
   "outputs": [],
   "source": [
    "# distances = np.linalg.norm(data_points[:, np.newaxis] - centers, axis=2)\n",
    "# break step by step\n",
    "# NumPy automatically broadcasts centers along the second axis of data_points\n",
    "data_points[:, np.newaxis] - centers_init"
   ]
  },
  {
   "cell_type": "code",
   "execution_count": null,
   "metadata": {},
   "outputs": [],
   "source": [
    "# distances = np.linalg.norm(data_points[:, np.newaxis] - centers, axis=2)\n",
    "# break step by step\n",
    "#computes the L2 norm along axis 2 \n",
    "np.linalg.norm(data_points [:, np.newaxis] - centers_init, axis=2)"
   ]
  },
  {
   "cell_type": "code",
   "execution_count": null,
   "metadata": {
    "id": "e4Dpn_1p01NJ"
   },
   "outputs": [],
   "source": [
    "centers, labels = k_means(data_points, centers_init, n_clusters=2)\n",
    "print(\"Converged centers :\", centers)\n",
    "print(\"cluster Labels :\", labels)"
   ]
  },
  {
   "cell_type": "code",
   "execution_count": null,
   "metadata": {},
   "outputs": [],
   "source": [
    "#plot the data\n",
    "from matplotlib import pyplot as plt\n",
    "plt.scatter(data_points[:, 0], data_points[:, 1], c=labels, cmap='viridis', marker='o')\n",
    "plt.scatter(centers[:, 0], centers[:, 1], c='red', marker='x', s=100, label='Centroids')\n",
    "plt.title('K-Means Clustering')"
   ]
  },
  {
   "cell_type": "markdown",
   "metadata": {},
   "source": [
    "Use sklearn's libraries"
   ]
  },
  {
   "cell_type": "code",
   "execution_count": null,
   "metadata": {},
   "outputs": [],
   "source": [
    "from sklearn.cluster import KMeans\n",
    "\n",
    "kmeans = KMeans(n_clusters=2, init=centers_init, max_iter=100, n_init=1) \n",
    "#n_init: The number of times the KMeans algorithm will run with different centroid seeds\n",
    "#        Setting n_init=1 means it will only run once, using the given centers_init\n",
    "kmeans.fit(data_points)\n",
    "print(\"KMeans centers from sklearn:\", kmeans.cluster_centers_)\n",
    "print(\"KMeans labels from sklearn:\", kmeans.labels_)"
   ]
  },
  {
   "cell_type": "markdown",
   "metadata": {},
   "source": [
    "### (ii) ###"
   ]
  },
  {
   "cell_type": "code",
   "execution_count": null,
   "metadata": {},
   "outputs": [],
   "source": [
    "# Assignment Step: Fix centers, update membership\n",
    "def update_membership(data_points, centers, fuzzier=2):\n",
    "    '''\n",
    "    Parameters:\n",
    "        datapoints: ndarray of shape (n_samples, n_features)\n",
    "        centers: ndarray of shape (n_clusters, n_features)\n",
    "        fuzzier: fuzzifier ([1.25,2])\n",
    "        \n",
    "    Returns:\n",
    "        W: ndarray of shape (n_samples, n_clusters)\n",
    "    '''\n",
    "    n_samples = data_points.shape[0]\n",
    "    n_clusters = centers.shape[0]\n",
    "    W = np.zeros((n_samples, n_clusters)) # initialize membership matrix\n",
    "\n",
    "    for i in range(n_samples):\n",
    "        for k in range(n_clusters):\n",
    "            denom = 0.0 # Denominator for membership calculation\n",
    "\n",
    "            # Calculate ||x_i - c_k||\n",
    "            dist_k = np.linalg.norm(data_points[i] - centers[k]) + 1e-10  # Avoid division by zero\n",
    "\n",
    "            for j in range(n_clusters):\n",
    "                # Calculate ||x_i - c_j||\n",
    "                dist_j = np.linalg.norm(data_points[i] - centers[j]) + 1e-10\n",
    "    \n",
    "                ratio = (dist_k / dist_j)\n",
    "                denom += ratio ** (2 / (fuzzier - 1))\n",
    "            W[i, k] = 1 / denom\n",
    "    return W"
   ]
  },
  {
   "cell_type": "code",
   "execution_count": null,
   "metadata": {},
   "outputs": [],
   "source": [
    "# Centroid Update Step: Fix membership, update centers\n",
    "def update_centers(data_points, W, fuzzier=2):\n",
    "    '''\n",
    "    Parameters:\n",
    "        datapoints: ndarray of shape (n_samples, n_features)\n",
    "        W: ndarray of shape (n_samples, n_clusters)\n",
    "        fuzzier: fuzzifier ([1.25,2])\n",
    "        \n",
    "    Returns:\n",
    "        centers: ndarray of shape (n_clusters, n_features)\n",
    "    '''\n",
    "    n_clusters = W.shape[1]\n",
    "    centers = np.zeros((n_clusters, data_points.shape[1]))\n",
    "\n",
    "    for k in range(n_clusters):\n",
    "        numerator = data_points.T @ (W[:, k] ** fuzzier)\n",
    "        denominator = np.sum(W[:, k] ** fuzzier)\n",
    "        centers[k] = numerator / denominator\n",
    "    return centers"
   ]
  },
  {
   "cell_type": "code",
   "execution_count": null,
   "metadata": {},
   "outputs": [],
   "source": [
    "# Fuzzy_Cmeans Clustering\n",
    "def fuzzy_Cmeans(data_points, centers_init, fuzzier=2, max_iterations=100, tol=1e-4):\n",
    "  centers = centers_init.copy() # make a copy of initial center to work on.\n",
    "  for _ in range(max_iterations): # The underscore _ is a throwaway variable, meaning “I don’t care about the loop variable.”\n",
    "    \n",
    "    W = update_membership(data_points, centers, fuzzier)\n",
    "    \n",
    "    new_centers = update_centers(data_points, W, fuzzier=2)\n",
    "\n",
    "    if np.linalg.norm(new_centers - centers) < tol:\n",
    "      break\n",
    "    centers = new_centers\n",
    "  return centers, W"
   ]
  },
  {
   "cell_type": "code",
   "execution_count": null,
   "metadata": {},
   "outputs": [],
   "source": [
    "centers, W = fuzzy_Cmeans(data_points, centers_init)\n",
    "print(\"Converged centers :\", centers)\n",
    "print(\"Final membership matrix (W):\", W)"
   ]
  }
 ],
 "metadata": {
  "colab": {
   "provenance": []
  },
  "kernelspec": {
   "display_name": "ee2211-2213",
   "language": "python",
   "name": "python3"
  },
  "language_info": {
   "codemirror_mode": {
    "name": "ipython",
    "version": 3
   },
   "file_extension": ".py",
   "mimetype": "text/x-python",
   "name": "python",
   "nbconvert_exporter": "python",
   "pygments_lexer": "ipython3",
   "version": "3.11.13"
  }
 },
 "nbformat": 4,
 "nbformat_minor": 0
}
