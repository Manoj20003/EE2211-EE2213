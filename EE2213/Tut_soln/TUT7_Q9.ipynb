{
 "cells": [
  {
   "cell_type": "code",
   "execution_count": 10,
   "id": "fe7c7809",
   "metadata": {},
   "outputs": [
    {
     "name": "stdout",
     "output_type": "stream",
     "text": [
      "The digits dataset keys: dict_keys(['data', 'target', 'frame', 'feature_names', 'target_names', 'images', 'DESCR'])\n",
      "The digits dataset description:\n",
      " .. _digits_dataset:\n",
      "\n",
      "Optical recognition of handwritten digits dataset\n",
      "--------------------------------------------------\n",
      "\n",
      "**Data Set Characteristics:**\n",
      "\n",
      "    :Number of Instances: 1797\n",
      "    :Number of Attributes: 64\n",
      "    :Attribute Information: 8x8 image of integer pixels in the range 0..16.\n",
      "    :Missing Attribute Values: None\n",
      "    :Creator: E. Alpaydin (alpaydin '@' boun.edu.tr)\n",
      "    :Date: July; 1998\n",
      "\n",
      "This is a copy of the test set of the UCI ML hand-written digits datasets\n",
      "https://archive.ics.uci.edu/ml/datasets/Optical+Recognition+of+Handwritten+Digits\n",
      "\n",
      "The data set contains images of hand-written digits: 10 classes where\n",
      "each class refers to a digit.\n",
      "\n",
      "Preprocessing programs made available by NIST were used to extract\n",
      "normalized bitmaps of handwritten digits from a preprinted form. From a\n",
      "total of 43 people, 30 contributed to the training set and different 13\n",
      "to the test set. 32x32 bitmaps are divided into nonoverlapping blocks of\n",
      "4x4 and the number of on pixels are counted in each block. This generates\n",
      "an input matrix of 8x8 where each element is an integer in the range\n",
      "0..16. This reduces dimensionality and gives invariance to small\n",
      "distortions.\n",
      "\n",
      "For info on NIST preprocessing routines, see M. D. Garris, J. L. Blue, G.\n",
      "T. Candela, D. L. Dimmick, J. Geist, P. J. Grother, S. A. Janet, and C.\n",
      "L. Wilson, NIST Form-Based Handprint Recognition System, NISTIR 5469,\n",
      "1994.\n",
      "\n",
      ".. topic:: References\n",
      "\n",
      "  - C. Kaynak (1995) Methods of Combining Multiple Classifiers and Their\n",
      "    Applications to Handwritten Digit Recognition, MSc Thesis, Institute of\n",
      "    Graduate Studies in Science and Engineering, Bogazici University.\n",
      "  - E. Alpaydin, C. Kaynak (1998) Cascading Classifiers, Kybernetika.\n",
      "  - Ken Tang and Ponnuthurai N. Suganthan and Xi Yao and A. Kai Qin.\n",
      "    Linear dimensionalityreduction using relevance weighted LDA. School of\n",
      "    Electrical and Electronic Engineering Nanyang Technological University.\n",
      "    2005.\n",
      "  - Claudio Gentile. A New Approximate Maximal Margin Classification\n",
      "    Algorithm. NIPS. 2000.\n",
      "\n",
      "The digits dataset features (X) shape: (1797, 64)\n",
      "The digits dataset labels (y) shape: (1797,)\n"
     ]
    }
   ],
   "source": [
    "import matplotlib.pyplot as plt\n",
    "import numpy as np\n",
    "from sklearn.datasets import load_digits\n",
    "\n",
    "digits = load_digits() # Load dataset as a dictionary-like object.\n",
    "print(\"The digits dataset keys:\", digits.keys())\n",
    "print(\"The digits dataset description:\\n\", digits.DESCR)\n",
    "\n",
    "X, y = digits.data, digits.target\n",
    "print(\"The digits dataset features (X) shape:\", X.shape)\n",
    "print(\"The digits dataset labels (y) shape:\", y.shape)\n"
   ]
  },
  {
   "cell_type": "code",
   "execution_count": 11,
   "id": "cbe72dda",
   "metadata": {},
   "outputs": [
    {
     "name": "stdout",
     "output_type": "stream",
     "text": [
      "flattened vector: [ 0.  0.  5. 13.  9.  1.  0.  0.  0.  0. 13. 15. 10. 15.  5.  0.  0.  3.\n",
      " 15.  2.  0. 11.  8.  0.  0.  4. 12.  0.  0.  8.  8.  0.  0.  5.  8.  0.\n",
      "  0.  9.  8.  0.  0.  4. 11.  0.  1. 12.  7.  0.  0.  2. 14.  5. 10. 12.\n",
      "  0.  0.  0.  0.  6. 13. 10.  0.  0.  0.]\n",
      "original image:\n",
      " [[ 0.  0.  5. 13.  9.  1.  0.  0.]\n",
      " [ 0.  0. 13. 15. 10. 15.  5.  0.]\n",
      " [ 0.  3. 15.  2.  0. 11.  8.  0.]\n",
      " [ 0.  4. 12.  0.  0.  8.  8.  0.]\n",
      " [ 0.  5.  8.  0.  0.  9.  8.  0.]\n",
      " [ 0.  4. 11.  0.  1. 12.  7.  0.]\n",
      " [ 0.  2. 14.  5. 10. 12.  0.  0.]\n",
      " [ 0.  0.  6. 13. 10.  0.  0.  0.]]\n",
      "label: 0\n"
     ]
    },
    {
     "data": {
      "image/png": "[encoded data removed]",
      "text/plain": [
       "<Figure size 640x480 with 1 Axes>"
      ]
     },
     "metadata": {},
     "output_type": "display_data"
    }
   ],
   "source": [
    "# Plot first image\n",
    "print(\"flattened vector:\", X[0])\n",
    "print(\"original image:\\n\", digits.images[0])\n",
    "print(\"label:\", y[0])\n",
    "plt.imshow(digits.images[0], cmap='gray')\n",
    "plt.title(f'Label: {digits.target[0]}')\n",
    "plt.show()"
   ]
  },
  {
   "cell_type": "markdown",
   "id": "817f9808",
   "metadata": {},
   "source": [
    "## (i) ##"
   ]
  },
  {
   "cell_type": "code",
   "execution_count": 12,
   "id": "6c3c89ba",
   "metadata": {},
   "outputs": [
    {
     "name": "stdout",
     "output_type": "stream",
     "text": [
      "Training set shape: (1257, 64), (1257,)\n",
      "Validation set shape: (270, 64), (270,)\n",
      "Test set shape: (270, 64), (270,)\n"
     ]
    }
   ],
   "source": [
    "# Split the data into training, validation, and test sets\n",
    "from sklearn.model_selection import train_test_split\n",
    "from sklearn.preprocessing import StandardScaler \n",
    "\n",
    "X_train, X_test, y_train, y_test = train_test_split(X, y, test_size=0.3, random_state=42)\n",
    "X_val, X_test, y_val, y_test = train_test_split(X_test, y_test, test_size=0.5, random_state=42)\n",
    "\n",
    "# Normalize features\n",
    "scaler = StandardScaler() # Creates a scaler object that standardizes features to have mean = 0 and std = 1.\n",
    "X_train = scaler.fit_transform(X_train) # Fit and transform the training data\n",
    "X_val = scaler.transform(X_val) # Transform the validation data\n",
    "X_test = scaler.transform(X_test) # Transform the test data\n",
    "\n",
    "# Print the shapes of the datasets\n",
    "print(f\"Training set shape: {X_train.shape}, {y_train.shape}\")\n",
    "print(f\"Validation set shape: {X_val.shape}, {y_val.shape}\")\n",
    "print(f\"Test set shape: {X_test.shape}, {y_test.shape}\")"
   ]
  },
  {
   "cell_type": "markdown",
   "id": "54a2ceba",
   "metadata": {},
   "source": [
    "## (ii) ##"
   ]
  },
  {
   "cell_type": "code",
   "execution_count": 13,
   "id": "77dabad5",
   "metadata": {},
   "outputs": [
    {
     "data": {
      "text/plain": [
       "array([[0., 0., 1., ..., 0., 0., 0.],\n",
       "       [0., 0., 0., ..., 0., 0., 0.],\n",
       "       [1., 0., 0., ..., 0., 0., 0.],\n",
       "       ...,\n",
       "       [0., 0., 1., ..., 0., 0., 0.],\n",
       "       [0., 1., 0., ..., 0., 0., 0.],\n",
       "       [0., 1., 0., ..., 0., 0., 0.]])"
      ]
     },
     "execution_count": 13,
     "metadata": {},
     "output_type": "execute_result"
    }
   ],
   "source": [
    "from sklearn.preprocessing import OneHotEncoder\n",
    "\n",
    "onehot_encoder = OneHotEncoder(sparse_output=False)\n",
    "reshaped = y_train.reshape(len(y_train), 1) # 1D array to 2D array\n",
    "Ytr_onehot = onehot_encoder.fit_transform(reshaped)\n",
    "\n",
    "reshaped = y_val.reshape(len(y_val), 1)\n",
    "Yval_onehot = onehot_encoder.fit_transform(reshaped)\n",
    "\n",
    "reshaped = y_test.reshape(len(y_test), 1)\n",
    "Yts_onehot = onehot_encoder.fit_transform(reshaped)\n",
    "\n",
    "Yts_onehot"
   ]
  },
  {
   "cell_type": "markdown",
   "id": "a81d722d",
   "metadata": {},
   "source": [
    "## (iii) ##"
   ]
  },
  {
   "cell_type": "code",
   "execution_count": 14,
   "id": "f4d90aad",
   "metadata": {},
   "outputs": [],
   "source": [
    "def ReLU(z):\n",
    "    return np.maximum(0, z)\n",
    "\n",
    "def Softmax(z,eps=1e-15):\n",
    "    z_max = np.max(z, axis=-1, keepdims=True)  # for numerical stability\n",
    "    exp_z = np.exp(z - z_max)\n",
    "    pred_Y = exp_z / np.sum(exp_z, axis=-1, keepdims=True)\n",
    "\n",
    "    # Clip predictions to prevent log(0)\n",
    "    pred_Y = np.clip(pred_Y, eps, 1 - eps)\n",
    "    \n",
    "    return pred_Y\n",
    "  \n",
    "\n",
    "def cross_entropy_cost(Y, Y_hat):\n",
    "    return -np.sum(Y * np.log(Y_hat)) / Y.shape[0]\n",
    "\n",
    "def forward_pass(X, W1, W2, W3):\n",
    "    # first layer output\n",
    "    O1=ReLU(X @ W1)\n",
    "\n",
    "    # second layer output\n",
    "    # Column of 1s for bias term\n",
    "    ones = np.ones((O1.shape[0], 1))\n",
    "    # Concatenate along columns (axis=1)\n",
    "    A2 = np.hstack((ones, O1))\n",
    "    O2 = ReLU(A2 @ W2)\n",
    "\n",
    "    # third layer output\n",
    "    ones = np.ones((O2.shape[0], 1))\n",
    "    A3 = np.hstack((ones, O2))\n",
    "    Y_hat = Softmax(A3 @ W3)\n",
    "\n",
    "    return Y_hat, A3, A2, O2, O1\n",
    "\n",
    "# backward pass for output layer\n",
    "def backward_pass_output(Y, Y_hat, A3, W3, lr):\n",
    "\n",
    "    N=Y.shape[0]\n",
    "\n",
    "    # Error at output layer\n",
    "    E3 = Y_hat-Y\n",
    "    # Gradient at output layer\n",
    "    G3 = (A3.T @ E3)/N\n",
    "    # Weights update at output layer\n",
    "    W3_new = W3 - lr * G3\n",
    "\n",
    "    return E3, G3, W3_new\n",
    "\n",
    "# backward pass for hidden layer\n",
    "def backward_pass_hidden(E_ladd1, W_ladd1, A_l, O_l, W_l, lr):\n",
    "    \n",
    "    N = A_l.shape[0]\n",
    "    # Error at hidden layer l\n",
    "    E_l = E_ladd1 @ W_ladd1[1:].T * (O_l > 0)  # ReLU derivative\n",
    "    # Gradient at hidden layer l\n",
    "    G_l = (A_l.T @ E_l)/N\n",
    "    # Weights update at hidden layer l\n",
    "    W_l_new = W_l - lr * G_l\n",
    "\n",
    "    return E_l, G_l, W_l_new\n"
   ]
  },
  {
   "cell_type": "code",
   "execution_count": 15,
   "id": "bbc686be",
   "metadata": {},
   "outputs": [],
   "source": [
    "def MLP_3layer(X, Y, W1_init, W2_init, W3_init, lr, num_iters):\n",
    "    W1, W2, W3 = W1_init.copy(), W2_init.copy(), W3_init.copy() \n",
    "    # Create a copy of the initial weights to work out.\n",
    "    cost_vec = np.zeros(num_iters+1)\n",
    "    for i in range(1, num_iters+1):\n",
    "        Y_hat, A3, A2, O2, O1 = forward_pass(X, W1, W2, W3)\n",
    "        cost = cross_entropy_cost(Y, Y_hat)\n",
    "        if i % 1000 == 1:\n",
    "            print(f\"Iteration {i-1}, Cost: {cost}\")\n",
    "        cost_vec[i-1]=cost\n",
    "        E3, G3, W3_new = backward_pass_output(Y, Y_hat, A3, W3, lr) \n",
    "        E2, G2, W2_new = backward_pass_hidden(E3, W3, A2, O2, W2, lr)\n",
    "        E1, G1, W1_new = backward_pass_hidden(E2, W2, X, O1, W1, lr)\n",
    "\n",
    "        W1, W2, W3 = W1_new.copy(), W2_new.copy(), W3_new.copy()\n",
    "        # W=W_new.copy(): avoid modifying the original weights. \n",
    "        #                 Creates a new array W in memory with the same values as W_new.\n",
    "        #                 This is a deep copy, so changes to W won’t affect W_new, and vice versa.\n",
    "        # W=W_new: Only creates a new reference pointing to the same array.\n",
    "        #          Changes to W would affect W_new, because they share the same memory, and vice versa.\n",
    "\n",
    "    Y_hat, A3, A2, O2, O1 = forward_pass(X, W1, W2, W3)\n",
    "    cost = cross_entropy_cost(Y, Y_hat)\n",
    "    cost_vec[i]=cost\n",
    "    print(f\"Final cost: {cost}\")\n",
    "    \n",
    "    return Y_hat, cost_vec, W1, W2, W3\n"
   ]
  },
  {
   "cell_type": "code",
   "execution_count": 16,
   "id": "37c71a09",
   "metadata": {},
   "outputs": [
    {
     "name": "stdout",
     "output_type": "stream",
     "text": [
      "Iteration 0, Cost: 32.10699292419009\n",
      "Iteration 1000, Cost: 0.10250190580584198\n",
      "Iteration 2000, Cost: 0.004684024162043155\n",
      "Iteration 3000, Cost: 0.001978936441445988\n",
      "Iteration 4000, Cost: 0.00127945399695216\n",
      "Iteration 5000, Cost: 0.0009486657238802028\n",
      "Iteration 6000, Cost: 0.0007564356152755184\n",
      "Iteration 7000, Cost: 0.0006294643310930292\n",
      "Iteration 8000, Cost: 0.0005398219558695212\n",
      "Iteration 9000, Cost: 0.000472929382401217\n",
      "Iteration 10000, Cost: 0.00042108714418261973\n",
      "Iteration 11000, Cost: 0.0003797143000426755\n",
      "Iteration 12000, Cost: 0.00034505978221333186\n",
      "Iteration 13000, Cost: 0.00031606090140686653\n",
      "Iteration 14000, Cost: 0.00029175717370583186\n",
      "Iteration 15000, Cost: 0.00027104395281002305\n",
      "Iteration 16000, Cost: 0.0002531555455363186\n",
      "Iteration 17000, Cost: 0.00023748821191946996\n",
      "Iteration 18000, Cost: 0.00022371979707000867\n",
      "Iteration 19000, Cost: 0.0002114708173557738\n",
      "Final cost: 0.00020043299070382164\n",
      "Training accuracy for learning rate 0.01: 1.0\n",
      "Validation accuracy for learning rate 0.01: 0.8740740740740741\n"
     ]
    }
   ],
   "source": [
    "from sklearn.preprocessing import PolynomialFeatures\n",
    "from sklearn.metrics import accuracy_score\n",
    "\n",
    "order = 1\n",
    "# Create polynomial features X to P\n",
    "Poly = PolynomialFeatures(order)\n",
    "X_train_poly = Poly.fit_transform(X_train)\n",
    "X_val_poly = Poly.fit_transform(X_val)\n",
    "X_test_poly = Poly.fit_transform(X_test)\n",
    "\n",
    "hid_layer_size = 32\n",
    "\n",
    "# output layer size = number of classes\n",
    "output_layer_size = Ytr_onehot.shape[1]\n",
    "\n",
    "# Initialize weights\n",
    "np.random.seed(42)  # For reproducibility\n",
    "W1 = np.random.randn(X_train_poly.shape[1], hid_layer_size) # Generates random numbers from a standard normal distribution\n",
    "W2 = np.random.randn(hid_layer_size+1, hid_layer_size)\n",
    "W3 = np.random.randn(hid_layer_size+1, output_layer_size)\n",
    "\n",
    "lr=0.01\n",
    "num_iters = 20000\n",
    "\n",
    "Ytr_est, cost_vec_32, W1_new_32, W2_new_32, W3_new_32 = MLP_3layer(X_train_poly, Ytr_onehot, W1, W2, W3, lr, num_iters)\n",
    "train_acc = accuracy_score(y_train, np.argmax(Ytr_est, axis=1))\n",
    "print(f\"Training accuracy for learning rate {lr}: {train_acc}\")\n",
    "Yval_est,_,_,_,_= forward_pass(X_val_poly, W1_new_32, W2_new_32, W3_new_32)\n",
    "val_acc = accuracy_score(y_val, np.argmax(Yval_est, axis=1))\n",
    "print(f\"Validation accuracy for learning rate {lr}: {val_acc}\")"
   ]
  },
  {
   "cell_type": "code",
   "execution_count": 17,
   "id": "c9d93684",
   "metadata": {},
   "outputs": [
    {
     "data": {
      "text/plain": [
       "Text(0.5, 1.0, '3-layer MLP')"
      ]
     },
     "execution_count": 17,
     "metadata": {},
     "output_type": "execute_result"
    },
    {
     "data": {
      "image/png": "[encoded data removed]",
      "text/plain": [
       "<Figure size 900x450 with 1 Axes>"
      ]
     },
     "metadata": {},
     "output_type": "display_data"
    }
   ],
   "source": [
    "# Plot cost function values over iterations for each learning rate\n",
    "plt.figure(0, figsize=[9,4.5])\n",
    "plt.rcParams.update({'font.size': 16})\n",
    "plt.plot(np.arange(0, num_iters+1, 1), cost_vec_32, label=f'hid_size={hid_layer_size}')\n",
    "plt.legend(loc='upper right', fontsize=15)\n",
    "plt.xlabel('Iteration Number')\n",
    "plt.ylabel('Categorical Cross Entropy Cost')\n",
    "plt.xticks(np.arange(0, num_iters+1, 2000))\n",
    "plt.title('3-layer MLP')"
   ]
  },
  {
   "cell_type": "markdown",
   "id": "400cec99",
   "metadata": {},
   "source": [
    "## (iv) ##"
   ]
  },
  {
   "cell_type": "code",
   "execution_count": 18,
   "id": "442cc32b",
   "metadata": {},
   "outputs": [
    {
     "name": "stdout",
     "output_type": "stream",
     "text": [
      "Iteration 0, Cost: 28.722528088516075\n",
      "Iteration 1000, Cost: 0.042660597465105435\n",
      "Iteration 2000, Cost: 0.001980880907725856\n",
      "Iteration 3000, Cost: 0.0009133508435663205\n",
      "Iteration 4000, Cost: 0.0006049269424196868\n",
      "Iteration 5000, Cost: 0.0004560644605340451\n",
      "Iteration 6000, Cost: 0.0003677352866574043\n",
      "Iteration 7000, Cost: 0.0003090946202050405\n",
      "Iteration 8000, Cost: 0.00026701518683581776\n",
      "Iteration 9000, Cost: 0.0002353055646411596\n",
      "Iteration 10000, Cost: 0.00021051188810576485\n",
      "Iteration 11000, Cost: 0.00019062061327130834\n",
      "Iteration 12000, Cost: 0.0001743317275208326\n",
      "Iteration 13000, Cost: 0.0001607063641310009\n",
      "Iteration 14000, Cost: 0.0001491446696464549\n",
      "Iteration 15000, Cost: 0.00013919144600994213\n",
      "Iteration 16000, Cost: 0.00013052829587398195\n",
      "Iteration 17000, Cost: 0.00012293205749593\n",
      "Iteration 18000, Cost: 0.00011620445380787813\n",
      "Iteration 19000, Cost: 0.00011020410376014887\n",
      "Final cost: 0.00010481265803377828\n",
      "Training accuracy for hidden layer size 36: 1.0\n",
      "Validation accuracy for hidden layer size 36: 0.825925925925926\n"
     ]
    },
    {
     "data": {
      "text/plain": [
       "Text(0.5, 1.0, '3-layer MLP')"
      ]
     },
     "execution_count": 18,
     "metadata": {},
     "output_type": "execute_result"
    },
    {
     "data": {
      "image/png": "[encoded data removed]",
      "text/plain": [
       "<Figure size 900x450 with 1 Axes>"
      ]
     },
     "metadata": {},
     "output_type": "display_data"
    }
   ],
   "source": [
    "from sklearn.preprocessing import PolynomialFeatures\n",
    "from sklearn.metrics import accuracy_score, confusion_matrix\n",
    "\n",
    "order = 1\n",
    "# Create polynomial features X to P\n",
    "Poly = PolynomialFeatures(order)\n",
    "X_train_poly = Poly.fit_transform(X_train)\n",
    "X_val_poly = Poly.fit_transform(X_val)\n",
    "X_test_poly = Poly.fit_transform(X_test)\n",
    "\n",
    "hid_layer_size = 36\n",
    "output_layer_size = Ytr_onehot.shape[1]\n",
    "\n",
    "# Initialize weights\n",
    "np.random.seed(42)  # For reproducibility\n",
    "W1 = np.random.randn(X_train_poly.shape[1], hid_layer_size)\n",
    "W2 = np.random.randn(hid_layer_size+1, hid_layer_size)\n",
    "W3 = np.random.randn(hid_layer_size+1, output_layer_size)\n",
    "\n",
    "lr=0.01\n",
    "num_iters = 20000\n",
    "\n",
    "Ytr_est, cost_vec_36, W1_new_36, W2_new_36, W3_new_36 = MLP_3layer(X_train_poly, Ytr_onehot, W1, W2, W3, lr, num_iters)\n",
    "train_acc = accuracy_score(y_train, np.argmax(Ytr_est, axis=1))\n",
    "print(f\"Training accuracy for hidden layer size {hid_layer_size}: {train_acc}\")\n",
    "Yval_est,_,_,_,_= forward_pass(X_val_poly, W1_new_36, W2_new_36, W3_new_36)\n",
    "val_acc = accuracy_score(y_val, np.argmax(Yval_est, axis=1))\n",
    "print(f\"Validation accuracy for hidden layer size {hid_layer_size}: {val_acc}\")\n",
    "\n",
    "# Plot cost function values over iterations for each learning rate\n",
    "plt.figure(0, figsize=[9,4.5])\n",
    "plt.rcParams.update({'font.size': 16})\n",
    "plt.plot(np.arange(0, num_iters+1, 1), cost_vec_32, c='b', label='hid_size=32')\n",
    "plt.plot(np.arange(0, num_iters+1, 1), cost_vec_36, c='r', label='hid_size=36')\n",
    "plt.legend(loc='upper right', fontsize=15)\n",
    "plt.xlabel('Iteration Number')\n",
    "plt.ylabel('Categorical Cross Entropy Cost')\n",
    "plt.xticks(np.arange(0, num_iters+1, 2000))\n",
    "plt.title('3-layer MLP')"
   ]
  },
  {
   "cell_type": "code",
   "execution_count": 19,
   "id": "5946748d",
   "metadata": {},
   "outputs": [
    {
     "name": "stdout",
     "output_type": "stream",
     "text": [
      "test accuracy for hidden layer size=32: 0.8444444444444444\n",
      "Confusion Matrix for Test Set:\n",
      "[[28  0  1  0  0  0  0  0  1  1]\n",
      " [ 0 18  3  0  0  0  1  0  1  1]\n",
      " [ 0  0 26  1  0  0  0  0  0  0]\n",
      " [ 0  0  3 27  0  1  0  0  1  1]\n",
      " [ 0  0  0  0 27  0  0  0  2  0]\n",
      " [ 1  0  1  0  1 22  0  0  0  2]\n",
      " [ 0  0  0  0  0  0 22  0  1  0]\n",
      " [ 0  0  0  0  0  0  0 26  0  1]\n",
      " [ 0  1  0  1  3  1  0  3 14  2]\n",
      " [ 0  0  0  5  1  0  0  0  0 18]]\n"
     ]
    }
   ],
   "source": [
    "# evaluate on test set\n",
    "Yts_est,_,_,_,_= forward_pass(X_test_poly, W1_new_32, W2_new_32, W3_new_32)\n",
    "test_acc = accuracy_score(y_test, np.argmax(Yts_est, axis=1))\n",
    "print(f\"test accuracy for hidden layer size=32: {test_acc}\")\n",
    "cm_test = confusion_matrix(y_test, np.argmax(Yts_est, axis=1))\n",
    "print(\"Confusion Matrix for Test Set:\")\n",
    "print(cm_test)"
   ]
  },
  {
   "cell_type": "markdown",
   "id": "7884112a",
   "metadata": {},
   "source": [
    "### Use sklearn's library ###"
   ]
  },
  {
   "cell_type": "code",
   "execution_count": 20,
   "id": "5a73eb2e",
   "metadata": {},
   "outputs": [
    {
     "name": "stdout",
     "output_type": "stream",
     "text": [
      "Training accuracy for hidden layer size 32: 1.0\n",
      "Validation accuracy for hidden layer size 32: 0.9555555555555556\n",
      "Training accuracy for hidden layer size 36: 1.0\n",
      "Validation accuracy for hidden layer size 36: 0.9740740740740741\n",
      "Best hidden layer size: 36, Max validation accuracy: 0.9740740740740741\n",
      "Test accuracy: 0.9814814814814815\n"
     ]
    }
   ],
   "source": [
    "from sklearn.neural_network import MLPClassifier\n",
    "\n",
    "hid_layer_size_list = [32, 36]\n",
    "train_acc_list = {}\n",
    "val_acc_list = {}\n",
    "max_val_acc = 0\n",
    "best_size = 0\n",
    "\n",
    "for hid_layer_size in hid_layer_size_list:\n",
    "    # Define MLP and fit once to initialize shapes\n",
    "    mlp = MLPClassifier(hidden_layer_sizes=(hid_layer_size, hid_layer_size), \n",
    "                        solver='sgd',\n",
    "                        max_iter=num_iters, \n",
    "                        learning_rate_init=lr,\n",
    "                        random_state=42)\n",
    "    mlp.fit(X_train, y_train)\n",
    "\n",
    "    ytr_pred = mlp.predict(X_train)\n",
    "    train_acc = accuracy_score(y_train, ytr_pred)\n",
    "    print(f\"Training accuracy for hidden layer size {hid_layer_size}: {train_acc}\")\n",
    "    train_acc_list[hid_layer_size]=train_acc\n",
    "\n",
    "    yval_pred = mlp.predict(X_val)\n",
    "    val_acc = accuracy_score(y_val, yval_pred)\n",
    "    print(f\"Validation accuracy for hidden layer size {hid_layer_size}: {val_acc}\")\n",
    "    val_acc_list[hid_layer_size]=val_acc\n",
    "\n",
    "    if val_acc > max_val_acc:\n",
    "        max_val_acc = val_acc\n",
    "        best_size = hid_layer_size\n",
    "        yts_pred=mlp.predict(X_test)\n",
    "        test_acc = accuracy_score(y_test, yts_pred)\n",
    "\n",
    "print(f\"Best hidden layer size: {best_size}, Max validation accuracy: {max_val_acc}\")\n",
    "print(f\"Test accuracy: {test_acc}\")\n"
   ]
  }
 ],
 "metadata": {
  "kernelspec": {
   "display_name": "ee2213",
   "language": "python",
   "name": "python3"
  },
  "language_info": {
   "codemirror_mode": {
    "name": "ipython",
    "version": 3
   },
   "file_extension": ".py",
   "mimetype": "text/x-python",
   "name": "python",
   "nbconvert_exporter": "python",
   "pygments_lexer": "ipython3",
   "version": "3.8.20"
  }
 },
 "nbformat": 4,
 "nbformat_minor": 5
}
