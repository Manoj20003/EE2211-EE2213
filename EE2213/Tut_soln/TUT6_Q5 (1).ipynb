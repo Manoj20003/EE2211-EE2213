{
 "cells": [
  {
   "cell_type": "markdown",
   "id": "1aaf6619",
   "metadata": {},
   "source": [
    "### （i）"
   ]
  },
  {
   "cell_type": "code",
   "execution_count": 1,
   "id": "2c3da146",
   "metadata": {},
   "outputs": [
    {
     "name": "stdout",
     "output_type": "stream",
     "text": [
      "       Name    Age   Salary Department\n",
      "0     Alice   25.0  50000.0         HR\n",
      "1       Bob   30.0  54000.0    Finance\n",
      "2   Charlie   35.0  58000.0         IT\n",
      "3    David    40.0  62000.0         IT\n",
      "4       Eve    NaN  65000.0         HR\n",
      "5     Frank  200.0      NaN    Finance\n",
      "6     Grace   29.0  57000.0        NaN\n",
      "7       Bob   30.0  54000.0    Finance\n",
      "8      Hank   22.0  45000.0         IT\n",
      "9       Ivy   25.0  50000.0         HR\n",
      "10      Bob   30.0  54000.0    Finance\n",
      "              Age        Salary\n",
      "count   10.000000     10.000000\n",
      "mean    46.600000  54900.000000\n",
      "std     54.144252   5915.140648\n",
      "min     22.000000  45000.000000\n",
      "25%     26.000000  51000.000000\n",
      "50%     30.000000  54000.000000\n",
      "75%     33.750000  57750.000000\n",
      "max    200.000000  65000.000000\n",
      "<class 'pandas.core.frame.DataFrame'>\n",
      "RangeIndex: 11 entries, 0 to 10\n",
      "Data columns (total 4 columns):\n",
      " #   Column      Non-Null Count  Dtype  \n",
      "---  ------      --------------  -----  \n",
      " 0   Name        11 non-null     object \n",
      " 1   Age         10 non-null     float64\n",
      " 2   Salary      10 non-null     float64\n",
      " 3   Department  10 non-null     object \n",
      "dtypes: float64(2), object(2)\n",
      "memory usage: 480.0+ bytes\n",
      "None\n"
     ]
    }
   ],
   "source": [
    "# need to install openpyxl to read .xlsx files\"\n",
    "from pandas import read_excel\n",
    "dataset = read_excel('synthetic-data.xlsx')\n",
    "print(dataset)\n",
    "print(dataset.describe())\n",
    "# pd.describe(): generate descriptive statistics of the numeric columns in a DataFrame.\n",
    "print(dataset.info())\n",
    "# pd.info(): concise summary of a DataFrame, including the number of non-null entries and data types."
   ]
  },
  {
   "cell_type": "markdown",
   "id": "51c244fc",
   "metadata": {},
   "source": [
    "### （ii）"
   ]
  },
  {
   "cell_type": "code",
   "execution_count": null,
   "id": "3704f1f0",
   "metadata": {},
   "outputs": [
    {
     "name": "stdout",
     "output_type": "stream",
     "text": [
      "Missing value at Row 4, Column 'Age'\n",
      "Missing value at Row 5, Column 'Salary'\n",
      "Missing value at Row 6, Column 'Department'\n"
     ]
    }
   ],
   "source": [
    "# check for missing values\n",
    "missing_locs = dataset.isnull().to_numpy().nonzero()  # returns a tuple of two arrays: (row_indices, col_indices)\n",
    "# dataset.isnull(): Returns a Boolean DataFrame: True for missing value, False otherwise\n",
    "# .to_numpy(): Convert to numpy array of Booleans\n",
    "#.nonzero(): A Numpy method returns indices of the elements that are non-zero/True.\n",
    "\n",
    "row_indices = missing_locs[0]\n",
    "col_indices = missing_locs[1]\n",
    "for row_index, col_index in zip(row_indices, col_indices): \n",
    "                           # zip(): takes two or more iterables (like lists, tuples, arrays) \n",
    "                           #        and pairs up their elements by position.\n",
    "    print(f\"Missing value at Row {row_index}, Column '{dataset.columns[col_index]}'\")\n",
    "    # dataset.columns: holds all the column labels of your DataFrame"
   ]
  },
  {
   "cell_type": "code",
   "execution_count": null,
   "id": "f7ce5384",
   "metadata": {},
   "outputs": [
    {
     "data": {
      "text/html": [
       "<div>\n",
       "<style scoped>\n",
       "    .dataframe tbody tr th:only-of-type {\n",
       "        vertical-align: middle;\n",
       "    }\n",
       "\n",
       "    .dataframe tbody tr th {\n",
       "        vertical-align: top;\n",
       "    }\n",
       "\n",
       "    .dataframe thead th {\n",
       "        text-align: right;\n",
       "    }\n",
       "</style>\n",
       "<table border=\"1\" class=\"dataframe\">\n",
       "  <thead>\n",
       "    <tr style=\"text-align: right;\">\n",
       "      <th></th>\n",
       "      <th>Name</th>\n",
       "      <th>Age</th>\n",
       "      <th>Salary</th>\n",
       "      <th>Department</th>\n",
       "    </tr>\n",
       "  </thead>\n",
       "  <tbody>\n",
       "    <tr>\n",
       "      <th>0</th>\n",
       "      <td>False</td>\n",
       "      <td>False</td>\n",
       "      <td>False</td>\n",
       "      <td>False</td>\n",
       "    </tr>\n",
       "    <tr>\n",
       "      <th>1</th>\n",
       "      <td>False</td>\n",
       "      <td>False</td>\n",
       "      <td>False</td>\n",
       "      <td>False</td>\n",
       "    </tr>\n",
       "    <tr>\n",
       "      <th>2</th>\n",
       "      <td>False</td>\n",
       "      <td>False</td>\n",
       "      <td>False</td>\n",
       "      <td>False</td>\n",
       "    </tr>\n",
       "    <tr>\n",
       "      <th>3</th>\n",
       "      <td>False</td>\n",
       "      <td>False</td>\n",
       "      <td>False</td>\n",
       "      <td>False</td>\n",
       "    </tr>\n",
       "    <tr>\n",
       "      <th>4</th>\n",
       "      <td>False</td>\n",
       "      <td>True</td>\n",
       "      <td>False</td>\n",
       "      <td>False</td>\n",
       "    </tr>\n",
       "    <tr>\n",
       "      <th>5</th>\n",
       "      <td>False</td>\n",
       "      <td>False</td>\n",
       "      <td>True</td>\n",
       "      <td>False</td>\n",
       "    </tr>\n",
       "    <tr>\n",
       "      <th>6</th>\n",
       "      <td>False</td>\n",
       "      <td>False</td>\n",
       "      <td>False</td>\n",
       "      <td>True</td>\n",
       "    </tr>\n",
       "    <tr>\n",
       "      <th>7</th>\n",
       "      <td>False</td>\n",
       "      <td>False</td>\n",
       "      <td>False</td>\n",
       "      <td>False</td>\n",
       "    </tr>\n",
       "    <tr>\n",
       "      <th>8</th>\n",
       "      <td>False</td>\n",
       "      <td>False</td>\n",
       "      <td>False</td>\n",
       "      <td>False</td>\n",
       "    </tr>\n",
       "    <tr>\n",
       "      <th>9</th>\n",
       "      <td>False</td>\n",
       "      <td>False</td>\n",
       "      <td>False</td>\n",
       "      <td>False</td>\n",
       "    </tr>\n",
       "    <tr>\n",
       "      <th>10</th>\n",
       "      <td>False</td>\n",
       "      <td>False</td>\n",
       "      <td>False</td>\n",
       "      <td>False</td>\n",
       "    </tr>\n",
       "  </tbody>\n",
       "</table>\n",
       "</div>"
      ],
      "text/plain": [
       "     Name    Age  Salary  Department\n",
       "0   False  False   False       False\n",
       "1   False  False   False       False\n",
       "2   False  False   False       False\n",
       "3   False  False   False       False\n",
       "4   False   True   False       False\n",
       "5   False  False    True       False\n",
       "6   False  False   False        True\n",
       "7   False  False   False       False\n",
       "8   False  False   False       False\n",
       "9   False  False   False       False\n",
       "10  False  False   False       False"
      ]
     },
     "execution_count": 2,
     "metadata": {},
     "output_type": "execute_result"
    }
   ],
   "source": [
    "#test cell\n",
    "dataset.isnull()"
   ]
  },
  {
   "cell_type": "code",
   "execution_count": null,
   "id": "53ea7bb7",
   "metadata": {},
   "outputs": [
    {
     "data": {
      "text/plain": [
       "array([[False, False, False, False],\n",
       "       [False, False, False, False],\n",
       "       [False, False, False, False],\n",
       "       [False, False, False, False],\n",
       "       [False,  True, False, False],\n",
       "       [False, False,  True, False],\n",
       "       [False, False, False,  True],\n",
       "       [False, False, False, False],\n",
       "       [False, False, False, False],\n",
       "       [False, False, False, False],\n",
       "       [False, False, False, False]])"
      ]
     },
     "execution_count": 3,
     "metadata": {},
     "output_type": "execute_result"
    }
   ],
   "source": [
    "#test cell\n",
    "dataset.isnull().to_numpy()"
   ]
  },
  {
   "cell_type": "code",
   "execution_count": 4,
   "id": "d3e6b587",
   "metadata": {},
   "outputs": [
    {
     "data": {
      "text/plain": [
       "(array([4, 5, 6], dtype=int64), array([1, 2, 3], dtype=int64))"
      ]
     },
     "execution_count": 4,
     "metadata": {},
     "output_type": "execute_result"
    }
   ],
   "source": [
    "#test cell\n",
    "dataset.isnull().to_numpy().nonzero()"
   ]
  },
  {
   "cell_type": "code",
   "execution_count": 9,
   "id": "b4af3d9c",
   "metadata": {},
   "outputs": [
    {
     "name": "stdout",
     "output_type": "stream",
     "text": [
      "Duplicate entries found at rows: [ 7 10]\n"
     ]
    }
   ],
   "source": [
    "# check for duplicate entries\n",
    "duplicates = dataset.duplicated() # Returns a boolean Series marking whether each row is a duplicate\n",
    "dup_locs = duplicates.to_numpy().nonzero()[0]\n",
    "if dup_locs.size > 0:\n",
    "    print(f\"Duplicate entries found at rows: {dup_locs}\")"
   ]
  }
 ],
 "metadata": {
  "kernelspec": {
   "display_name": "ee2213",
   "language": "python",
   "name": "python3"
  },
  "language_info": {
   "codemirror_mode": {
    "name": "ipython",
    "version": 3
   },
   "file_extension": ".py",
   "mimetype": "text/x-python",
   "name": "python",
   "nbconvert_exporter": "python",
   "pygments_lexer": "ipython3",
   "version": "3.8.20"
  }
 },
 "nbformat": 4,
 "nbformat_minor": 5
}
