{
 "cells": [
  {
   "cell_type": "code",
   "execution_count": null,
   "id": "2c3da146",
   "metadata": {},
   "outputs": [],
   "source": [
    "import numpy as np\n",
    "from numpy.linalg import inv,matrix_rank,det\n",
    "import matplotlib.pyplot as plt\n",
    "from sklearn.preprocessing import PolynomialFeatures,OneHotEncoder\n",
    "from sklearn.metrics import mean_squared_error\n",
    "from sklearn.datasets import fetch_california_housing\n",
    "\n",
    "# Load the California housing dataset\n",
    "data = fetch_california_housing(as_frame=True) # Load as a DataFrame\n",
    "\n",
    "X = data.data\n",
    "y = data.target\n",
    "\n",
    "print(X.head())"
   ]
  },
  {
   "cell_type": "markdown",
   "id": "3bc4e717",
   "metadata": {},
   "source": [
    "### (i) ###"
   ]
  },
  {
   "cell_type": "code",
   "execution_count": null,
   "id": "c1a3ba57",
   "metadata": {},
   "outputs": [],
   "source": [
    "## Split the data into training, validation, and test sets\n",
    "from sklearn.model_selection import train_test_split\n",
    "\n",
    "X_train, X_test, y_train, y_test = train_test_split(X, y, test_size=0.4, random_state=42)\n",
    "X_val, X_test, y_val, y_test = train_test_split(X_test, y_test, test_size=0.5, random_state=42)\n",
    "# random_state: controls the random shuffling of data before splitting into train and test sets.\n",
    "\n",
    "# Print the shapes of the datasets\n",
    "print(f\"Training set shape: {X_train.shape}, {y_train.shape}\")\n",
    "print(f\"Validation set shape: {X_val.shape}, {y_val.shape}\")\n",
    "print(f\"Test set shape: {X_test.shape}, {y_test.shape}\")"
   ]
  },
  {
   "cell_type": "markdown",
   "id": "d2daeb5f",
   "metadata": {},
   "source": [
    "### (ii) ###"
   ]
  },
  {
   "cell_type": "code",
   "execution_count": null,
   "id": "52f4bb92",
   "metadata": {},
   "outputs": [],
   "source": [
    "## Feature Selection using Pearson's correlation\n",
    "# Combine into a single DataFrame\n",
    "df = X_train.copy()\n",
    "df['target'] = y_train # add one column named \"target\" for target output\n",
    "df"
   ]
  },
  {
   "cell_type": "code",
   "execution_count": null,
   "id": "a45bd949",
   "metadata": {},
   "outputs": [],
   "source": [
    "\n",
    "# Compute correlation with the target\n",
    "correlations = df.corr()['target'].drop('target')\n",
    "print(\"Correlations with target:\")\n",
    "print(correlations.abs().sort_values(ascending=False))\n",
    "\n",
    "# Get top 2 absolute correlations\n",
    "top2_features = correlations.abs().sort_values(ascending=False).head(2).index.tolist()\n",
    "print(\"Top 2 features with highest absolute correlation to target:\")\n",
    "print(top2_features)\n",
    "\n",
    "# Subset the DataFrame to only include the top 2 features\n",
    "df_train = X_train[top2_features]\n",
    "df_val = X_val[top2_features]\n",
    "df_test = X_test[top2_features]\n",
    "\n",
    "# Print the shapes of the datasets\n",
    "print(f\"Training set shape after feature selection: {df_train.shape}, {y_train.shape}\")\n",
    "print(f\"Validation set shape after feature selection: {df_val.shape}, {y_val.shape}\")\n",
    "print(f\"Test set shape after feature selection: {df_test.shape}, {y_test.shape}\")"
   ]
  },
  {
   "cell_type": "code",
   "execution_count": null,
   "id": "13d503a0",
   "metadata": {},
   "outputs": [],
   "source": [
    "# test cell\n",
    "df.corr()\n",
    "# a Pd method that computes the pairwise correlation between numeric columns in a DataFrame"
   ]
  },
  {
   "cell_type": "code",
   "execution_count": null,
   "id": "2dc359b0",
   "metadata": {},
   "outputs": [],
   "source": [
    "# test cell\n",
    "df.corr()['target']"
   ]
  },
  {
   "cell_type": "code",
   "execution_count": null,
   "id": "79021d26",
   "metadata": {},
   "outputs": [],
   "source": [
    "# test cell\n",
    "df.corr()['target'].drop('target')\n",
    "# remove entries for target itself"
   ]
  },
  {
   "cell_type": "markdown",
   "id": "db77a199",
   "metadata": {},
   "source": [
    "### (iii) ###"
   ]
  },
  {
   "cell_type": "code",
   "execution_count": null,
   "id": "e9614dc3",
   "metadata": {},
   "outputs": [],
   "source": [
    "# check if X^T * X is invertible\n",
    "def check_inverse_rank(matrix):\n",
    "    rank = matrix_rank(matrix, tol=1e-12) # tol: Helps avoid counting very small numbers \n",
    "                                          #      due to floating-point errors as non-zero.\n",
    "    print(\"matrix rank is : \"+ str(rank))\n",
    "    print(\"matrix size is : \"+ str(matrix.shape))\n",
    "\n",
    "    if matrix.shape[0] == matrix.shape[1]:\n",
    "       if rank == matrix.shape[0]:\n",
    "           print(\"matrix is invertible\")\n",
    "       else:\n",
    "           print(\"matrix is not invertible\")\n",
    "    else:\n",
    "       print(\"matrix is not square, hence not invertible\")\n",
    "\n",
    "    return (rank == matrix.shape[0]) and (matrix.shape[0] == matrix.shape[1])\n",
    "\n",
    "def check_inverse_det(matrix, tol=1e-12):\n",
    "    deter = det(matrix)\n",
    "    print(\"determinant is : \" + str(deter))\n",
    "    if abs(deter) < tol:\n",
    "        print(\"matrix is invertible\")\n",
    "    else:\n",
    "        print(\"matrix is not invertible\")"
   ]
  },
  {
   "cell_type": "code",
   "execution_count": null,
   "id": "3704f1f0",
   "metadata": {},
   "outputs": [],
   "source": [
    "# Initialize lists to store mean squared errors for each order\n",
    "mse_train_list = []\n",
    "mse_val_list = []\n",
    "mse_test_list = []\n",
    "max_order = 6\n",
    "\n",
    "for order in range(1,max_order + 1):\n",
    "    print(f\"Polynomial regression model for order {order}:\")\n",
    "    # Create polynomial features X to P\n",
    "    Poly = PolynomialFeatures(order)\n",
    "    X_train_poly = Poly.fit_transform(df_train)\n",
    "    X_val_poly = Poly.transform(df_val)\n",
    "    X_test_poly = Poly.transform(df_test)\n",
    "\n",
    "    # Fit a linear regression model\n",
    "    if check_inverse_rank(X_train_poly.T @ X_train_poly):\n",
    "        print(\"Applying Polynomial Regression without regularization\")\n",
    "        # learning (working out w)\n",
    "        w = inv(X_train_poly.T @ X_train_poly) @ X_train_poly.T @ y_train\n",
    "        print(f\"w for order {order}: {w}\")\n",
    "    else:\n",
    "        print(\"Applying regularization\")\n",
    "        lambda_reg = 1e-5  # Regularization strength\n",
    "        w = inv(X_train_poly.T @ X_train_poly + lambda_reg * np.eye(X_train_poly.shape[1])) @ X_train_poly.T @ y_train\n",
    "        \n",
    "    # Predict on the training, validation, and test sets\n",
    "    y_train_pred = X_train_poly @ w\n",
    "    y_val_pred = X_val_poly @ w\n",
    "    y_test_pred = X_test_poly @ w\n",
    "\n",
    "    # Calculate and print the mean squared errors for training, validation sets, test sets.\n",
    "    mse_train = mean_squared_error(y_train, y_train_pred)\n",
    "    mse_val = mean_squared_error(y_val, y_val_pred)\n",
    "    mse_test = mean_squared_error(y_test, y_test_pred)\n",
    "    print(f\"Order {order} - Training MSE: {mse_train}, Validation MSE: {mse_val}, Test MSE: {mse_test} \\n\")\n",
    "    mse_train_list.append(mse_train)\n",
    "    mse_val_list.append(mse_val)\n",
    "    mse_test_list.append(mse_test)\n",
    "   \n"
   ]
  },
  {
   "cell_type": "code",
   "execution_count": null,
   "id": "4b7142cd",
   "metadata": {},
   "outputs": [],
   "source": [
    "print('Training MSE: ', str(mse_train_list))\n",
    "print('Validation MSE: ', str(mse_val_list))\n",
    "\n",
    "# Plot MSE\n",
    "plt.figure(1, figsize=[9,4.5])\n",
    "plt.rcParams.update({'font.size': 16})\n",
    "plt.plot(np.linspace(1,max_order,max_order), mse_train_list, label='training MSE')\n",
    "plt.plot(np.linspace(1,max_order,max_order), mse_val_list, label='validation MSE')\n",
    "plt.xlabel('order') \n",
    "plt.ylabel('MSE')\n",
    "plt.legend(loc='upper left', fontsize=15)\n",
    "plt.show()"
   ]
  },
  {
   "cell_type": "code",
   "execution_count": null,
   "id": "8d4fb971",
   "metadata": {},
   "outputs": [],
   "source": [
    "# Best polynomial order should be selected according to validation set.\n",
    "print(\"MSE for test set is : \" + str(mse_test_list[3]))"
   ]
  },
  {
   "cell_type": "markdown",
   "id": "1e9fac7f",
   "metadata": {},
   "source": [
    "### (iv) ###"
   ]
  },
  {
   "cell_type": "code",
   "execution_count": null,
   "id": "2ca2a889",
   "metadata": {},
   "outputs": [],
   "source": [
    "# Regularization\n",
    "mse_train_list_reg = []\n",
    "mse_val_list_reg = []\n",
    "mse_test_list_reg = []\n",
    "max_order = 6\n",
    "lamda = 1\n",
    "\n",
    "for order in range(1,max_order + 1):\n",
    "\n",
    "    # Create polynomial features X to P\n",
    "    Poly = PolynomialFeatures(order)\n",
    "    X_train_poly = Poly.fit_transform(df_train)\n",
    "    X_val_poly = Poly.transform(df_val)\n",
    "    X_test_poly = Poly.transform(df_test)\n",
    "\n",
    "    # learning (work out w)\n",
    "    reg_L = lamda*np.identity(X_train_poly.shape[1])\n",
    "    w_reg = inv(X_train_poly.T @ X_train_poly + reg_L) @ X_train_poly.T @ y_train\n",
    "    print(f\"Model coefficients for order {order}: {w_reg}\")\n",
    "\n",
    "    # Predict on the training, validation, and test sets\n",
    "    y_train_pred = X_train_poly @ w_reg\n",
    "    y_val_pred = X_val_poly @ w_reg\n",
    "    y_test_pred = X_test_poly @ w_reg\n",
    "\n",
    "    # Calculate and print the mean squared error for training, validation and test sets.\n",
    "    mse_train = mean_squared_error(y_train, y_train_pred)\n",
    "    mse_val = mean_squared_error(y_val, y_val_pred)\n",
    "    mse_test = mean_squared_error(y_test, y_test_pred)\n",
    "    print(f\"Order {order} - Training MSE: {mse_train}, Validation MSE: {mse_val}, Test MSE: {mse_test} \\n\")\n",
    "    mse_train_list_reg.append(mse_train)\n",
    "    mse_val_list_reg.append(mse_val)\n",
    "    mse_test_list_reg.append(mse_test)\n",
    "\n"
   ]
  },
  {
   "cell_type": "code",
   "execution_count": null,
   "id": "f9c2a211",
   "metadata": {},
   "outputs": [],
   "source": [
    "print('====== With Regularization =======')\n",
    "print('Training MSE: ', str(mse_train_list_reg))\n",
    "print('Validation MSE: ', str(mse_val_list_reg))\n",
    "\n",
    "# Plot MSE\n",
    "plt.figure(1, figsize=[9,4.5])\n",
    "plt.rcParams.update({'font.size': 16})\n",
    "plt.plot(np.linspace(1,max_order,max_order), mse_train_list_reg, label='training MSE')\n",
    "plt.plot(np.linspace(1,max_order,max_order), mse_val_list_reg, label='validation MSE')\n",
    "plt.xlabel('order') \n",
    "plt.ylabel('MSE')\n",
    "plt.title('With Regularization lamda=' + str(lamda))\n",
    "plt.legend(loc='upper left', fontsize=15)\n",
    "plt.show()"
   ]
  },
  {
   "cell_type": "code",
   "execution_count": null,
   "id": "7b96bf5e",
   "metadata": {},
   "outputs": [],
   "source": [
    "# Plot MSE together\n",
    "plt.figure(4, figsize=[9,4.5])\n",
    "plt.rcParams.update({'font.size': 16})\n",
    "plt.plot(np.linspace(1,max_order,max_order), mse_train_list, color = \"yellow\", label='training MSE without reg')\n",
    "plt.plot(np.linspace(1,max_order,max_order), mse_val_list, color = \"red\", label='validation MSE without reg')\n",
    "plt.plot(np.linspace(1,max_order,max_order), mse_train_list_reg, color = \"green\", label='training MSE with reg')\n",
    "plt.plot(np.linspace(1,max_order,max_order), mse_val_list_reg, color = \"blue\", label='validation MSE with reg')\n",
    "plt.xlabel('order') \n",
    "plt.ylabel('MSE')\n",
    "\n",
    "plt.legend(loc='upper left', fontsize=15)\n",
    "plt.show()"
   ]
  },
  {
   "cell_type": "code",
   "execution_count": null,
   "id": "078247a4",
   "metadata": {},
   "outputs": [],
   "source": [
    "print(\"MSE for test set is : \" + str(mse_test_list[3]))"
   ]
  }
 ],
 "metadata": {
  "kernelspec": {
   "display_name": "ee2213",
   "language": "python",
   "name": "python3"
  },
  "language_info": {
   "codemirror_mode": {
    "name": "ipython",
    "version": 3
   },
   "file_extension": ".py",
   "mimetype": "text/x-python",
   "name": "python",
   "nbconvert_exporter": "python",
   "pygments_lexer": "ipython3",
   "version": "3.8.20"
  }
 },
 "nbformat": 4,
 "nbformat_minor": 5
}
