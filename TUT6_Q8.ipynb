{
 "cells": [
  {
   "cell_type": "code",
   "execution_count": 29,
   "id": "2c3da146",
   "metadata": {},
   "outputs": [
    {
     "name": "stdout",
     "output_type": "stream",
     "text": [
      "   mean radius  mean texture  mean perimeter  mean area  mean smoothness  \\\n",
      "0        17.99         10.38          122.80     1001.0          0.11840   \n",
      "1        20.57         17.77          132.90     1326.0          0.08474   \n",
      "2        19.69         21.25          130.00     1203.0          0.10960   \n",
      "3        11.42         20.38           77.58      386.1          0.14250   \n",
      "4        20.29         14.34          135.10     1297.0          0.10030   \n",
      "\n",
      "   mean compactness  mean concavity  mean concave points  mean symmetry  \\\n",
      "0           0.27760          0.3001              0.14710         0.2419   \n",
      "1           0.07864          0.0869              0.07017         0.1812   \n",
      "2           0.15990          0.1974              0.12790         0.2069   \n",
      "3           0.28390          0.2414              0.10520         0.2597   \n",
      "4           0.13280          0.1980              0.10430         0.1809   \n",
      "\n",
      "   mean fractal dimension  ...  worst radius  worst texture  worst perimeter  \\\n",
      "0                 0.07871  ...         25.38          17.33           184.60   \n",
      "1                 0.05667  ...         24.99          23.41           158.80   \n",
      "2                 0.05999  ...         23.57          25.53           152.50   \n",
      "3                 0.09744  ...         14.91          26.50            98.87   \n",
      "4                 0.05883  ...         22.54          16.67           152.20   \n",
      "\n",
      "   worst area  worst smoothness  worst compactness  worst concavity  \\\n",
      "0      2019.0            0.1622             0.6656           0.7119   \n",
      "1      1956.0            0.1238             0.1866           0.2416   \n",
      "2      1709.0            0.1444             0.4245           0.4504   \n",
      "3       567.7            0.2098             0.8663           0.6869   \n",
      "4      1575.0            0.1374             0.2050           0.4000   \n",
      "\n",
      "   worst concave points  worst symmetry  worst fractal dimension  \n",
      "0                0.2654          0.4601                  0.11890  \n",
      "1                0.1860          0.2750                  0.08902  \n",
      "2                0.2430          0.3613                  0.08758  \n",
      "3                0.2575          0.6638                  0.17300  \n",
      "4                0.1625          0.2364                  0.07678  \n",
      "\n",
      "[5 rows x 30 columns]\n"
     ]
    }
   ],
   "source": [
    "import numpy as np\n",
    "from numpy.linalg import inv,matrix_rank,det\n",
    "import matplotlib.pyplot as plt\n",
    "from sklearn.preprocessing import PolynomialFeatures,OneHotEncoder\n",
    "from sklearn.model_selection import train_test_split\n",
    "from sklearn.metrics import accuracy_score, confusion_matrix\n",
    "from sklearn.datasets import load_breast_cancer\n",
    "\n",
    "# Load the California housing dataset\n",
    "data = load_breast_cancer(as_frame=True) # Load as a DataFrame\n",
    "\n",
    "X = data.data\n",
    "y = data.target\n",
    "\n",
    "print(X.head())"
   ]
  },
  {
   "cell_type": "markdown",
   "id": "3bc4e717",
   "metadata": {},
   "source": [
    "### (i) ###"
   ]
  },
  {
   "cell_type": "code",
   "execution_count": 30,
   "id": "c1a3ba57",
   "metadata": {},
   "outputs": [
    {
     "name": "stdout",
     "output_type": "stream",
     "text": [
      "Training set shape: (455, 30), (455,)\n",
      "Validation set shape: (57, 30), (57,)\n",
      "Test set shape: (57, 30), (57,)\n"
     ]
    }
   ],
   "source": [
    "# Split the data into training, validation, and test sets\n",
    "X_train, X_test, y_train, y_test = train_test_split(X, y, test_size=0.2, random_state=42)\n",
    "X_val, X_test, y_val, y_test = train_test_split(X_test, y_test, test_size=0.5, random_state=42)\n",
    "\n",
    "# Print the shapes of the datasets\n",
    "print(f\"Training set shape: {X_train.shape}, {y_train.shape}\")\n",
    "print(f\"Validation set shape: {X_val.shape}, {y_val.shape}\")\n",
    "print(f\"Test set shape: {X_test.shape}, {y_test.shape}\")"
   ]
  },
  {
   "cell_type": "markdown",
   "id": "d2daeb5f",
   "metadata": {},
   "source": [
    "### (ii) ###"
   ]
  },
  {
   "cell_type": "code",
   "execution_count": 31,
   "id": "a45bd949",
   "metadata": {},
   "outputs": [
    {
     "name": "stdout",
     "output_type": "stream",
     "text": [
      "Correlations with target:\n",
      "worst concave points       0.788885\n",
      "mean concave points        0.778115\n",
      "worst perimeter            0.774998\n",
      "worst radius               0.766527\n",
      "mean perimeter             0.731859\n",
      "worst area                 0.722875\n",
      "mean radius                0.718073\n",
      "mean area                  0.695171\n",
      "mean concavity             0.683262\n",
      "worst concavity            0.649952\n",
      "mean compactness           0.590554\n",
      "worst compactness          0.588884\n",
      "radius error               0.540126\n",
      "perimeter error            0.529211\n",
      "area error                 0.517064\n",
      "worst texture              0.467479\n",
      "worst symmetry             0.440323\n",
      "worst smoothness           0.430364\n",
      "mean texture               0.416213\n",
      "concave points error       0.380240\n",
      "mean smoothness            0.375137\n",
      "mean symmetry              0.348123\n",
      "worst fractal dimension    0.312994\n",
      "compactness error          0.254370\n",
      "concavity error            0.216047\n",
      "smoothness error           0.058123\n",
      "fractal dimension error    0.041727\n",
      "mean fractal dimension     0.014308\n",
      "symmetry error             0.004723\n",
      "texture error              0.003226\n",
      "Name: target, dtype: float64\n",
      "\n",
      "Filtered features with absolute correction > 0.5:\n",
      "['mean radius', 'mean perimeter', 'mean area', 'mean compactness', 'mean concavity', 'mean concave points', 'radius error', 'perimeter error', 'area error', 'worst radius', 'worst perimeter', 'worst area', 'worst compactness', 'worst concavity', 'worst concave points']\n",
      "Final Selected features:\n",
      "['mean radius', 'mean compactness', 'mean concavity', 'radius error', 'worst compactness', 'worst concavity', 'worst concave points']\n",
      "Training set shape after feature selection: (455, 7), (455,)\n",
      "Validation set shape after feature selection: (57, 7), (57,)\n",
      "Test set shape after feature selection: (57, 7), (57,)\n"
     ]
    }
   ],
   "source": [
    "# Feature Selection using training data\n",
    "# Combine into a single DataFrame\n",
    "df = X_train.copy()\n",
    "df['target'] = y_train\n",
    "\n",
    "# Compute correlation with the target\n",
    "correlations = df.corr()['target'].drop('target')\n",
    "print(\"Correlations with target:\")\n",
    "print(correlations.abs().sort_values(ascending=False))\n",
    "\n",
    "# Filter features with |correlation| > 0.5\n",
    "filtered_features = correlations[correlations.abs()>0.5].index.tolist()\n",
    "print(\"\\nFiltered features with absolute correction > 0.5:\")\n",
    "print(filtered_features)\n",
    "\n",
    "# Drop features highly correlated with each other (|corr| > 0.9)\n",
    "selected_features = []\n",
    "cor_matrix = df[filtered_features].corr().abs()\n",
    "for feature in filtered_features:\n",
    "    # Check if it's highly correlated with any already selected feature\n",
    "    if all(cor_matrix.loc[feature, selected] <= 0.9 for selected in selected_features):\n",
    "        # all(iterable): returns True if all elements of an iterable are True.\n",
    "        #                all([]) returns True by definition\n",
    "        selected_features.append(feature)\n",
    "print(\"Final Selected features:\")\n",
    "print(selected_features)\n",
    "\n",
    "# Subset the DataFrame to only include the selected features.\n",
    "df_train = X_train[selected_features]\n",
    "df_val = X_val[selected_features]\n",
    "df_test = X_test[selected_features]\n",
    "\n",
    "# Print the shapes of the datasets\n",
    "print(f\"Training set shape after feature selection: {df_train.shape}, {y_train.shape}\")\n",
    "print(f\"Validation set shape after feature selection: {df_val.shape}, {y_val.shape}\")\n",
    "print(f\"Test set shape after feature selection: {df_test.shape}, {y_test.shape}\")\n",
    "\n"
   ]
  },
  {
   "cell_type": "markdown",
   "id": "db77a199",
   "metadata": {},
   "source": [
    "### (iii) ###"
   ]
  },
  {
   "cell_type": "code",
   "execution_count": 32,
   "id": "e9614dc3",
   "metadata": {},
   "outputs": [],
   "source": [
    "# check if X^T * X is invertible\n",
    "def check_inverse_rank(matrix):\n",
    "    rank = matrix_rank(matrix, tol=1e-12)\n",
    "    print(\"matrix rank is : \"+ str(rank))\n",
    "    print(\"matrix size is : \"+ str(matrix.shape))\n",
    "\n",
    "    if matrix.shape[0] == matrix.shape[1]:\n",
    "       if rank == matrix.shape[0]:\n",
    "           print(\"matrix is invertible\")\n",
    "       else:\n",
    "           print(\"matrix is not invertible\")\n",
    "    else:\n",
    "       print(\"matrix is not square, hence not invertible\")\n",
    "\n",
    "    return (rank == matrix.shape[0]) and (matrix.shape[0] == matrix.shape[1])\n",
    "\n",
    "def check_inverse_det(matrix, tol=1e-12):\n",
    "    deter = det(matrix)\n",
    "    print(\"determinant is : \" + str(deter))\n",
    "    if abs(deter) < tol:\n",
    "        print(\"matrix is invertible\")\n",
    "    else:\n",
    "        print(\"matrix is not invertible\")"
   ]
  },
  {
   "cell_type": "code",
   "execution_count": 33,
   "id": "3704f1f0",
   "metadata": {},
   "outputs": [
    {
     "name": "stdout",
     "output_type": "stream",
     "text": [
      "matrix rank is : 8\n",
      "matrix size is : (8, 8)\n",
      "matrix is invertible\n",
      "Applying linear regression without regularization\n",
      "w: [ 1.59200106 -0.03236039  2.5190758  -0.26401624 -0.25492417 -0.69872181\n",
      "  0.0374111  -4.16286245]\n",
      "Training acc: 0.9340659340659341, Validation acc: 0.9122807017543859, Test acc: 0.9473684210526315\n",
      "Confusion Matrix for Test Set:\n",
      "[[14  2]\n",
      " [ 1 40]]\n"
     ]
    }
   ],
   "source": [
    "order = 1\n",
    "threshold = 0.5\n",
    "lamda = 0.00001\n",
    "\n",
    "# Augment 1 to X\n",
    "Poly = PolynomialFeatures(order)\n",
    "X_train_poly = Poly.fit_transform(df_train)\n",
    "X_val_poly = Poly.fit_transform(df_val)\n",
    "X_test_poly = Poly.fit_transform(df_test)\n",
    "    \n",
    "# Fit a linear regression model\n",
    "if check_inverse_rank(X_train_poly.T @ X_train_poly):\n",
    "    print(\"Applying linear regression without regularization\")\n",
    "    w = inv(X_train_poly.T @ X_train_poly) @ X_train_poly.T @ y_train\n",
    "else:\n",
    "    print(\"Applying linear regression with regularization\")\n",
    "    w = inv(X_train_poly.T @ X_train_poly + lamda * np.eye(X_train_poly.shape[1])) @ X_train_poly.T @ y_train\n",
    "\n",
    "print(f\"w: {w}\")\n",
    "\n",
    "# Predict on the training, validation, and test sets\n",
    "y_train_pred = ((X_train_poly @ w)>threshold).astype(int)\n",
    "y_val_pred = ((X_val_poly @ w)>threshold).astype(int)\n",
    "y_test_pred = ((X_test_poly @ w)>threshold).astype(int)\n",
    "    \n",
    "# Calculate and print the accuracy for training, validation sets and test sets\n",
    "acc_train = accuracy_score(y_train, y_train_pred)\n",
    "acc_val = accuracy_score(y_val, y_val_pred)\n",
    "acc_test = accuracy_score(y_test, y_test_pred)\n",
    "print(f\"Training acc: {acc_train}, Validation acc: {acc_val}, Test acc: {acc_test}\")\n",
    "cm_test = confusion_matrix(y_test, y_test_pred)\n",
    "print(\"Confusion Matrix for Test Set:\")\n",
    "print(cm_test)"
   ]
  },
  {
   "cell_type": "markdown",
   "id": "1e9fac7f",
   "metadata": {},
   "source": [
    "### (iv) ###"
   ]
  },
  {
   "cell_type": "code",
   "execution_count": 34,
   "id": "cd8bba2f",
   "metadata": {},
   "outputs": [],
   "source": [
    "# Compute prediction, cost and gradient based on binary cross entropy\n",
    "def logistic_cost_gradient(X, w, y, eps=1e-15):\n",
    "    z = X @ w  # Linear combination\n",
    "    \n",
    "    pred_y = 1/(1+np.exp(-z))\n",
    "    # Clip predictions to prevent log(0)\n",
    "    pred_y = np.clip(pred_y, eps, 1 - eps)\n",
    "\n",
    "    N = X.shape[0]  # Number of samples\n",
    "    cost   = np.mean(- (y * np.log(pred_y) + (1 - y) * np.log(1 - pred_y)))\n",
    "    gradient = ((pred_y-y) @ X)/ N  # Normalize by number of samples\n",
    "\n",
    "    return pred_y, cost, gradient"
   ]
  },
  {
   "cell_type": "code",
   "execution_count": 35,
   "id": "1323de08",
   "metadata": {},
   "outputs": [],
   "source": [
    "# Perform binormial logistic regression\n",
    "def binormial_logistic_regression(P, w, y, lr, num_iters):\n",
    "    pred_y, cost, gradient = logistic_cost_gradient(P, w, y)\n",
    "    print('Initial Cost =', cost)\n",
    "    print('Initial w =', w)\n",
    "    cost_vec = np.zeros(num_iters+1)\n",
    "    cost_vec[0] = cost\n",
    "\n",
    "    for i in range(1, num_iters + 1):\n",
    "        w -= lr * gradient\n",
    "        pred_y, cost, gradient = logistic_cost_gradient(P, w, y)\n",
    "        cost_vec[i] = cost\n",
    "        if i % 2000 == 0:\n",
    "            print(f\"Iteration {i}, Cost: {cost}\")\n",
    "    return w, cost_vec, pred_y      "
   ]
  },
  {
   "cell_type": "code",
   "execution_count": 36,
   "id": "2ca2a889",
   "metadata": {},
   "outputs": [
    {
     "name": "stdout",
     "output_type": "stream",
     "text": [
      "Fitting logistic regression for learning rate 0.1...\n",
      "Initial Cost = 0.8995876957253418\n",
      "Initial w = [ 0.49671415 -0.1382643   0.64768854  1.52302986 -0.23415337 -0.23413696\n",
      "  1.57921282  0.76743473]\n",
      "Iteration 2000, Cost: 0.20594016284595282\n",
      "Iteration 4000, Cost: 0.19494196005356174\n",
      "Iteration 6000, Cost: 0.1889372393795804\n",
      "Iteration 8000, Cost: 0.18513515981038245\n",
      "Iteration 10000, Cost: 0.18249773297433164\n",
      "Iteration 12000, Cost: 0.1805452399001726\n",
      "Iteration 14000, Cost: 0.17902571333633896\n",
      "Iteration 16000, Cost: 0.17779486255065383\n",
      "Iteration 18000, Cost: 0.17676463650233226\n",
      "Iteration 20000, Cost: 0.17587859184473675\n",
      "w for learning rate 0.1: [15.54668046 -0.72585932  0.60544684 -0.29441768 -4.61324281 -4.62896759\n",
      " -4.26056365 -4.15651439]\n",
      "Training accuracy for learning rate 0.1: 0.9186813186813186\n",
      "Validation accuracy for learning rate 0.1: 0.9298245614035088 \n",
      "\n",
      "Fitting logistic regression for learning rate 0.01...\n",
      "Initial Cost = 0.8995876957253418\n",
      "Initial w = [ 0.49671415 -0.1382643   0.64768854  1.52302986 -0.23415337 -0.23413696\n",
      "  1.57921282  0.76743473]\n",
      "Iteration 2000, Cost: 0.5509168093840527\n",
      "Iteration 4000, Cost: 0.4435464395265711\n",
      "Iteration 6000, Cost: 0.3814278120423261\n",
      "Iteration 8000, Cost: 0.3416967185300234\n",
      "Iteration 10000, Cost: 0.314308586781829\n",
      "Iteration 12000, Cost: 0.29434878576698653\n",
      "Iteration 14000, Cost: 0.2791758898654272\n",
      "Iteration 16000, Cost: 0.2672577087194186\n",
      "Iteration 18000, Cost: 0.2576491205873066\n",
      "Iteration 20000, Cost: 0.2497372575516645\n",
      "w for learning rate 0.01: [ 7.15079851 -0.30077482  0.1184007  -0.02815761 -2.52260065 -2.55868447\n",
      " -2.43008513 -0.75070037]\n",
      "Training accuracy for learning rate 0.01: 0.9142857142857143\n",
      "Validation accuracy for learning rate 0.01: 0.9122807017543859 \n",
      "\n",
      "Fitting logistic regression for learning rate 0.001...\n",
      "Initial Cost = 0.8995876957253418\n",
      "Initial w = [ 0.49671415 -0.1382643   0.64768854  1.52302986 -0.23415337 -0.23413696\n",
      "  1.57921282  0.76743473]\n",
      "Iteration 2000, Cost: 0.7313239541450421\n",
      "Iteration 4000, Cost: 0.7050648209775223\n",
      "Iteration 6000, Cost: 0.6806567139762526\n",
      "Iteration 8000, Cost: 0.6579623801112606\n",
      "Iteration 10000, Cost: 0.636849858719763\n",
      "Iteration 12000, Cost: 0.6171942568098486\n",
      "Iteration 14000, Cost: 0.5988786832853319\n",
      "Iteration 16000, Cost: 0.5817946028154583\n",
      "Iteration 18000, Cost: 0.5658418151263092\n",
      "Iteration 20000, Cost: 0.5509282035662747\n",
      "w for learning rate 0.001: [ 1.97086042 -0.10761155  0.49250337  1.13103683 -0.84789847 -0.80492955\n",
      "  0.59047337  0.44759756]\n",
      "Training accuracy for learning rate 0.001: 0.8307692307692308\n",
      "Validation accuracy for learning rate 0.001: 0.7894736842105263 \n",
      "\n",
      "Best learning rate: 0.1, Max validation accuracy: 0.9298245614035088\n",
      "Test accuracy for the best model: 0.9824561403508771\n",
      "Confusion Matrix for Test Set:\n",
      "[[15  1]\n",
      " [ 0 41]]\n"
     ]
    }
   ],
   "source": [
    "\n",
    "lr_list = [0.1, 0.01, 0.001]\n",
    "acc_train_list_Log = [] # store training accuracy for each learning rate\n",
    "acc_val_list_Log = [] # store validation accuracy for each learning rate\n",
    "num_iters = 20000\n",
    "threshold = 0.5\n",
    "order = 1 # linear features\n",
    "cost_dict = {}  # a dictionary with key to be the learning rate, and value to be the cost.\n",
    "max_val_acc = 0\n",
    "best_lr = 0\n",
    "\n",
    "# Create polynomial features X to P\n",
    "Poly = PolynomialFeatures(order)\n",
    "X_train_poly = Poly.fit_transform(df_train)\n",
    "X_val_poly = Poly.fit_transform(df_val)\n",
    "X_test_poly = Poly.fit_transform(df_test)\n",
    "\n",
    "for lr in lr_list:\n",
    "    # Initialize weights\n",
    "    np.random.seed(42)  # set the seed for the random number generator for reproducibility\n",
    "    w = np.random.randn(X_train_poly.shape[1])# 1D array of random values sampled from the standard normal distribution\n",
    "\n",
    "    # Fit a logistic regression model\n",
    "    print(f\"Fitting logistic regression for learning rate {lr}...\")\n",
    "    w_opt, cost_vec, y_train_pred = binormial_logistic_regression(X_train_poly, w, y_train, lr, num_iters)\n",
    "    print(f\"w for learning rate {lr}: {w_opt}\")\n",
    "\n",
    "    # Compute training and validation accuracies.\n",
    "    train_acc = accuracy_score(y_train, (y_train_pred > threshold).astype(int))\n",
    "    y_val_pred,_,_ = logistic_cost_gradient(X_val_poly, w_opt, y_val)\n",
    "    val_acc = accuracy_score(y_val, (y_val_pred > threshold).astype(int))\n",
    "    print(f\"Training accuracy for learning rate {lr}: {train_acc}\")\n",
    "    print(f\"Validation accuracy for learning rate {lr}: {val_acc} \\n\")\n",
    "    acc_val_list_Log.append(val_acc)\n",
    "    acc_train_list_Log.append(train_acc)\n",
    "\n",
    "    # store cost\n",
    "    cost_dict[lr] = cost_vec\n",
    "\n",
    "    # Check for best validation accuracy for hyperparameter selection\n",
    "    if val_acc > max_val_acc:\n",
    "        max_val_acc = val_acc\n",
    "        best_lr = lr\n",
    "        y_test_pred,_,_ = logistic_cost_gradient(X_test_poly, w_opt, y_test)\n",
    "        test_acc = accuracy_score(y_test, (y_test_pred > threshold).astype(int))\n",
    "        cm_test = confusion_matrix(y_test, (y_test_pred > threshold).astype(int))\n",
    "\n",
    "print(f\"Best learning rate: {best_lr}, Max validation accuracy: {max_val_acc}\")\n",
    "print(f\"Test accuracy for the best model: {test_acc}\")\n",
    "print(\"Confusion Matrix for Test Set:\")\n",
    "print(cm_test)\n"
   ]
  },
  {
   "cell_type": "code",
   "execution_count": 37,
   "id": "0da8b147",
   "metadata": {},
   "outputs": [
    {
     "name": "stdout",
     "output_type": "stream",
     "text": [
      "Training acc:  [0.9186813186813186, 0.9142857142857143, 0.8307692307692308]\n",
      "Validation acc:  [0.9298245614035088, 0.9122807017543859, 0.7894736842105263]\n"
     ]
    },
    {
     "data": {
      "text/plain": [
       "Text(0.5, 1.0, 'Binomial Logistic Regression')"
      ]
     },
     "execution_count": 37,
     "metadata": {},
     "output_type": "execute_result"
    },
    {
     "data": {
      "image/png": "[encoded data removed]",
      "text/plain": [
       "<Figure size 900x450 with 1 Axes>"
      ]
     },
     "metadata": {},
     "output_type": "display_data"
    }
   ],
   "source": [
    "print('Training acc: ', str(acc_train_list_Log))\n",
    "print('Validation acc: ', str(acc_val_list_Log))\n",
    "# Plot cost values over iterations for each learning rate\n",
    "plt.figure(0, figsize=[9,4.5])\n",
    "plt.rcParams.update({'font.size': 16})\n",
    "colors = ['r', 'g', 'b']\n",
    "\n",
    "for i, (lr, cost_vec) in enumerate(cost_dict.items()): #.items(): iterable of key-value pairs\n",
    "                                                       # enumerate(): Adds an index to each element of an iterable\n",
    "    plt.plot(np.arange(0, num_iters+1, 1), cost_vec, color=colors[i], label=f'lr={lr}')\n",
    "             # np.arange(start, stop, step)\n",
    "plt.legend(loc='upper right', fontsize=15)\n",
    "plt.xlabel('Iteration Number')\n",
    "plt.ylabel('Mean Binary Cross Entropy Loss')\n",
    "plt.xticks(np.arange(0, num_iters+1, 4000))\n",
    "plt.title('Binomial Logistic Regression')"
   ]
  },
  {
   "cell_type": "markdown",
   "id": "e8ccc581",
   "metadata": {},
   "source": [
    "# Using sklearn's Logistic Regression"
   ]
  },
  {
   "cell_type": "code",
   "execution_count": 38,
   "id": "f9c2a211",
   "metadata": {},
   "outputs": [
    {
     "name": "stdout",
     "output_type": "stream",
     "text": [
      "model coefficients: [[-0.78750839 -0.51577771 -0.8525225  -2.03692769 -2.57481351 -3.14838334\n",
      "  -1.37161964]]\n",
      "model intercept: [14.42205574]\n",
      "Training accuracy using sklearn: 0.9010989010989011\n",
      "Validation accuracy using sklearn: 0.9298245614035088\n",
      "Test accuracy using sklearn: 1.0\n"
     ]
    }
   ],
   "source": [
    "from sklearn.linear_model import LogisticRegression\n",
    "\n",
    "model = LogisticRegression()\n",
    "model.fit(df_train, y_train)\n",
    "print(\"model coefficients:\", model.coef_)\n",
    "print(\"model intercept:\", model.intercept_)\n",
    "y_pred_train = model.predict(df_train)\n",
    "train_acc = accuracy_score(y_train, y_pred_train)\n",
    "y_pred_val = model.predict(df_val)\n",
    "val_acc = accuracy_score(y_val, y_pred_val)\n",
    "y_pred_test = model.predict(df_test)\n",
    "test_acc = accuracy_score(y_test, y_pred_test)\n",
    "print(f\"Training accuracy using sklearn: {train_acc}\")\n",
    "print(f\"Validation accuracy using sklearn: {val_acc}\")\n",
    "print(f\"Test accuracy using sklearn: {test_acc}\")"
   ]
  }
 ],
 "metadata": {
  "kernelspec": {
   "display_name": "ee2213",
   "language": "python",
   "name": "python3"
  },
  "language_info": {
   "codemirror_mode": {
    "name": "ipython",
    "version": 3
   },
   "file_extension": ".py",
   "mimetype": "text/x-python",
   "name": "python",
   "nbconvert_exporter": "python",
   "pygments_lexer": "ipython3",
   "version": "3.8.20"
  }
 },
 "nbformat": 4,
 "nbformat_minor": 5
}
