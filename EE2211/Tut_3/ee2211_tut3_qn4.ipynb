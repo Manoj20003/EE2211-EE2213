{
 "cells": [
  {
   "cell_type": "code",
   "execution_count": 5,
   "id": "307e087d",
   "metadata": {},
   "outputs": [
    {
     "ename": "TypeError",
     "evalue": "unsupported operand type(s) for +=: 'int' and 'list'",
     "output_type": "error",
     "traceback": [
      "\u001b[31m---------------------------------------------------------------------------\u001b[39m",
      "\u001b[31mTypeError\u001b[39m                                 Traceback (most recent call last)",
      "\u001b[36mCell\u001b[39m\u001b[36m \u001b[39m\u001b[32mIn[5]\u001b[39m\u001b[32m, line 19\u001b[39m\n\u001b[32m     14\u001b[39m         d[x[\u001b[32m0\u001b[39m]] += x[\u001b[32m1\u001b[39m]\n\u001b[32m     16\u001b[39m     \u001b[38;5;28;01mreturn\u001b[39;00m sums\n\u001b[32m---> \u001b[39m\u001b[32m19\u001b[39m \u001b[43mdice\u001b[49m\u001b[43m(\u001b[49m\u001b[43m)\u001b[49m\n",
      "\u001b[36mCell\u001b[39m\u001b[36m \u001b[39m\u001b[32mIn[5]\u001b[39m\u001b[32m, line 14\u001b[39m, in \u001b[36mdice\u001b[39m\u001b[34m()\u001b[39m\n\u001b[32m     11\u001b[39m         sums.append([i + j, [i, j]])\n\u001b[32m     13\u001b[39m \u001b[38;5;28;01mfor\u001b[39;00m x \u001b[38;5;129;01min\u001b[39;00m sums:\n\u001b[32m---> \u001b[39m\u001b[32m14\u001b[39m     \u001b[43md\u001b[49m\u001b[43m[\u001b[49m\u001b[43mx\u001b[49m\u001b[43m[\u001b[49m\u001b[32;43m0\u001b[39;49m\u001b[43m]\u001b[49m\u001b[43m]\u001b[49m\u001b[43m \u001b[49m\u001b[43m+\u001b[49m\u001b[43m=\u001b[49m\u001b[43m \u001b[49m\u001b[43mx\u001b[49m\u001b[43m[\u001b[49m\u001b[32;43m1\u001b[39;49m\u001b[43m]\u001b[49m\n\u001b[32m     16\u001b[39m \u001b[38;5;28;01mreturn\u001b[39;00m sums\n",
      "\u001b[31mTypeError\u001b[39m: unsupported operand type(s) for +=: 'int' and 'list'"
     ]
    }
   ],
   "source": [
    "from collections import defaultdict\n",
    "\n",
    "\n",
    "def dice():\n",
    "    d = defaultdict(int)\n",
    "    sums = [] \n",
    "    outcomes = range(1, 7)\n",
    "\n",
    "    for i in outcomes:\n",
    "        for j in outcomes:\n",
    "            sums.append([i + j, [i, j]])\n",
    "\n",
    "    for x in sums:\n",
    "        d[x[0]] += x[1]\n",
    "\n",
    "    return sums\n",
    "\n",
    "\n",
    "dice()"
   ]
  }
 ],
 "metadata": {
  "kernelspec": {
   "display_name": "ee2211-2213",
   "language": "python",
   "name": "python3"
  },
  "language_info": {
   "codemirror_mode": {
    "name": "ipython",
    "version": 3
   },
   "file_extension": ".py",
   "mimetype": "text/x-python",
   "name": "python",
   "nbconvert_exporter": "python",
   "pygments_lexer": "ipython3",
   "version": "3.11.13"
  }
 },
 "nbformat": 4,
 "nbformat_minor": 5
}
